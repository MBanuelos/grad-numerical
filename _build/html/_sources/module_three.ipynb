{
 "cells": [
  {
   "cell_type": "markdown",
   "id": "09cac734",
   "metadata": {},
   "source": [
    "# Module 3: Ordinary Differential Equations"
   ]
  },
  {
   "cell_type": "markdown",
   "id": "952f2fe8",
   "metadata": {},
   "source": [
    "... to be added :]"
   ]
  },
  {
   "cell_type": "code",
   "execution_count": null,
   "id": "97c74fce",
   "metadata": {},
   "outputs": [],
   "source": []
  }
 ],
 "metadata": {
  "kernelspec": {
   "display_name": "Python 3 (ipykernel)",
   "language": "python",
   "name": "python3"
  },
  "language_info": {
   "codemirror_mode": {
    "name": "ipython",
    "version": 3
   },
   "file_extension": ".py",
   "mimetype": "text/x-python",
   "name": "python",
   "nbconvert_exporter": "python",
   "pygments_lexer": "ipython3",
   "version": "3.9.7"
  }
 },
 "nbformat": 4,
 "nbformat_minor": 5
}
