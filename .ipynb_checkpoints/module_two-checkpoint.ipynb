{
 "cells": [
  {
   "cell_type": "markdown",
   "id": "852e5acc",
   "metadata": {},
   "source": [
    "# Module 2 - Numerical Calculus"
   ]
  },
  {
   "cell_type": "markdown",
   "id": "ccae56c5",
   "metadata": {},
   "source": [
    ".. to be added :]"
   ]
  }
 ],
 "metadata": {
  "kernelspec": {
   "display_name": "Python 3 (ipykernel)",
   "language": "python",
   "name": "python3"
  },
  "language_info": {
   "codemirror_mode": {
    "name": "ipython",
    "version": 3
   },
   "file_extension": ".py",
   "mimetype": "text/x-python",
   "name": "python",
   "nbconvert_exporter": "python",
   "pygments_lexer": "ipython3",
   "version": "3.12.4"
  }
 },
 "nbformat": 4,
 "nbformat_minor": 5
}
