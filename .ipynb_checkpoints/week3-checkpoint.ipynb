{
 "cells": [
  {
   "cell_type": "markdown",
   "metadata": {},
   "source": [
    "[![Open in Colab](https://colab.research.google.com/assets/colab-badge.svg)](https://colab.research.google.com/github/MBanuelos/grad_numerical/blob/main/week3.ipynb)"
   ]
  },
  {
   "cell_type": "markdown",
   "metadata": {
    "id": "QNVQiyJkVtzS"
   },
   "source": [
    "# Week 3: Numerical Calculus Intro"
   ]
  },
  {
   "cell_type": "markdown",
   "metadata": {
    "id": "_z04UpREvnec"
   },
   "source": [
    "In this module, we build some of the common techniques for approximating the two primary computations in calculus: taking derivatives and evaluating definite integrals."
   ]
  },
  {
   "cell_type": "code",
   "execution_count": null,
   "metadata": {
    "executionInfo": {
     "elapsed": 4,
     "status": "ok",
     "timestamp": 1694046310844,
     "user": {
      "displayName": "Mario Banuelos",
      "userId": "01257122883850017165"
     },
     "user_tz": 420
    },
    "id": "409673Dl0OGz"
   },
   "outputs": [],
   "source": [
    "import numpy as np"
   ]
  },
  {
   "cell_type": "markdown",
   "metadata": {
    "id": "5UR4aBUE5ucb"
   },
   "source": [
    "## Numerical Calculus"
   ]
  },
  {
   "cell_type": "markdown",
   "metadata": {
    "id": "Sfxg-Zoiv4vd"
   },
   "source": [
    "**Practice**\n",
    "\n",
    "In statistics, the function known as the normal distribution (the bell curve) is defined as\n",
    "\n",
    "$$\n",
    "N(x) = \\frac{1}{\\sqrt{2 \\pi}} e^{-x^2/2}.\n",
    "$$\n",
    "\n",
    "One of the primary computations of introductory statistics is to find the area under a portion of this curve since this area gives the probability of some event\n",
    "\n",
    "$$\n",
    "P(a < x < b) = \\int^b_a \\frac{1}{\\sqrt{2 \\pi}} e^{-x^2/2}\\;dx.\n",
    "$$\n",
    "\n",
    "The trouble is that there is no known antiderivative of this function.\n",
    "\n",
    "Propose a method for approximating this area."
   ]
  },
  {
   "cell_type": "markdown",
   "metadata": {
    "id": "kX6winLKwc7j"
   },
   "source": [
    "* Trapezoid approximation for between $a$ and $b$\n",
    "* Use a function that looks similar (e.g. $1/(1+x^2)$)\n",
    "* Monte Carlo Integration (throw a whole bunch of point at the map)\n",
    "* Area under the curve is = 1 (upper bound)\n",
    "* Use $N(x)$ function evaluations in a 'clever' way"
   ]
  },
  {
   "cell_type": "code",
   "execution_count": null,
   "metadata": {
    "colab": {
     "base_uri": "https://localhost:8080/",
     "height": 542
    },
    "executionInfo": {
     "elapsed": 521,
     "status": "ok",
     "timestamp": 1694046496350,
     "user": {
      "displayName": "Mario Banuelos",
      "userId": "01257122883850017165"
     },
     "user_tz": 420
    },
    "id": "rGSHlQfXBwkb",
    "outputId": "3944d7c4-a239-4ea0-c8d8-ce5e9bfa6499"
   },
   "outputs": [],
   "source": [
    "from plotly import graph_objs as go\n",
    "\n",
    "# plotting N(x) by first defining xdata\n",
    "xdata = np.linspace(-3,3)\n",
    "N = 1/(np.sqrt(2*np.pi)) * np.exp(-xdata**2/2)\n",
    "\n",
    "fig=go.Figure()\n",
    "fig.add_trace(go.Scatter(x=xdata, y=N))"
   ]
  },
  {
   "cell_type": "markdown",
   "metadata": {
    "id": "F3IFOsX7wf_C"
   },
   "source": [
    "**Practice**\n",
    "\n",
    "Give a list of five functions for which an exact algebraic derivative is relatively easy but an exact antiderivative is either very hard or maybe impossible. Be prepared to compare with your peers."
   ]
  },
  {
   "cell_type": "markdown",
   "metadata": {
    "id": "yHgdWsEPwoRx"
   },
   "source": [
    "Some functions could be\n",
    "- $\\sin(x^2)$\n",
    "- $e^{x^2}$\n",
    "- $\\log_{10}(x) \\ln(x)$\n",
    "- $\\frac{1}{\\ln (x)}$"
   ]
  },
  {
   "cell_type": "markdown",
   "metadata": {
    "id": "HsCLI4X05uM3"
   },
   "source": [
    "## Differentiation"
   ]
  },
  {
   "cell_type": "markdown",
   "metadata": {
    "id": "h-nkgLB-xZVg"
   },
   "source": [
    "In this section we'll build several approximation of first and second derivatives.  The\n",
    "idea for each of these approximation is:\n",
    "\n",
    "* Partition the interval $[a,b]$ into $N$ points.\n",
    "* Define the distance between two points in the partition as $h$.\n",
    "*  Approximate the derivative at the point $x \\in [a,b]$ by using linear combinations of $f(x-h)$, $f(x)$, $f(x+h)$, and/or other points in the partition.  \n",
    "\n",
    "This converts a continuous problem to a discrete problem."
   ]
  },
  {
   "cell_type": "markdown",
   "metadata": {
    "id": "OqnQ69XwybMj"
   },
   "source": [
    "**Practice**\n",
    "\n",
    "Let's take a close look at partitions before moving on to more details about numerical differentiation.\n",
    "\n",
    "If we partition the interval [0,1] into 3 equal sub intervals each with length $h$, then:\n",
    "\n",
    "* $h = $\n",
    "* $[0,1] = [0,-] \\cup [-,-], \\cup [-, 1]$\n",
    "* There are four total points that define the partition. They are $0, - , - , 1$"
   ]
  },
  {
   "cell_type": "markdown",
   "metadata": {
    "id": "slTNWz_10ZMH"
   },
   "source": [
    "**Note:** In general, for a closed interval $[a,b]$, with $N$ equal sub intervals, we have\n",
    "\n",
    "$$\n",
    "h = \\frac{b - a}{N}\n",
    "$$"
   ]
  },
  {
   "cell_type": "code",
   "execution_count": null,
   "metadata": {
    "colab": {
     "base_uri": "https://localhost:8080/"
    },
    "executionInfo": {
     "elapsed": 5,
     "status": "ok",
     "timestamp": 1694048113352,
     "user": {
      "displayName": "Mario Banuelos",
      "userId": "01257122883850017165"
     },
     "user_tz": 420
    },
    "id": "6_o6esKj0LyJ",
    "outputId": "928a4334-ace9-477d-e3af-1a881175d47f"
   },
   "outputs": [],
   "source": [
    "# using numpy to do this for us\n",
    "\n",
    "np.linspace(0,1,5)\n",
    "\n",
    "# Q: how would we partition [5,10] into 100 equal sub intervals?\n",
    "np.linspace(start = 5, stop = 10, num=101)"
   ]
  },
  {
   "cell_type": "code",
   "execution_count": null,
   "metadata": {
    "colab": {
     "base_uri": "https://localhost:8080/"
    },
    "executionInfo": {
     "elapsed": 3,
     "status": "ok",
     "timestamp": 1694048149508,
     "user": {
      "displayName": "Mario Banuelos",
      "userId": "01257122883850017165"
     },
     "user_tz": 420
    },
    "id": "sBpHwb-gIzDC",
    "outputId": "0da07948-d452-45ae-9e97-e6dca78f1b73"
   },
   "outputs": [],
   "source": [
    "np.linspace(0,1,4)"
   ]
  },
  {
   "cell_type": "markdown",
   "metadata": {
    "id": "TANAXmS_xzo1"
   },
   "source": [
    "If we recall that the definition of the first derivative of a function is\n",
    "\n",
    "\\begin{align}\n",
    "    \\frac{df}{dx} = \\lim_{h \\to 0} \\frac{f(x+h) - f(x)}{h}.\n",
    "\\end{align}\n",
    "\n",
    "our first approximation for the first derivative is naturally\n",
    "\n",
    "\\begin{align}\n",
    "    \\frac{df}{dx} \\approx \\frac{f(x+h) - f(x)}{h}.\n",
    "\\end{align}"
   ]
  },
  {
   "cell_type": "markdown",
   "metadata": {
    "id": "RZZmjpLX1cbW"
   },
   "source": [
    "From Taylor's Theorem we know that for an infinitely differentiable function $f(x)$,\n",
    "\n",
    "\\begin{align*}\n",
    "f(x) &= f(x_0) + \\frac{f'(x_0)}{1!} (x-x_0)^1\\\\ &+ \\frac{f''(x_0)}{2!}(x-x_0)^2 + \\frac{f^{(3)}(x_0)}{3!}(x-x_0)^3\\\\\n",
    "&+ \\frac{f^{(4)}(x_0)}{4!}(x-x_0)^4 + \\cdots.\n",
    "\\end{align*}\n",
    "\n",
    "What do we get if we replace $x$ (in the Taylor Series) with $x+h$ and replace every $x_0$ in the series with $x$? In other words, what is\n",
    "\n",
    "$$\n",
    "f(x + h) =\n",
    "$$"
   ]
  },
  {
   "cell_type": "markdown",
   "metadata": {
    "id": "ciyJAkoa3HHs"
   },
   "source": [
    "**Practice**\n",
    "\n",
    "Solve the result from the previous problem for $f'(x)$ to create an approximation for $f'(x)$ using $f(x+h), f(x)$ and higher-order terms (fill in the ?),\n",
    "\n",
    "\n",
    "$$\n",
    "f'(x) = \\frac{f(x+h) - f(x)}{h} + \\mathcal{O}(h)\n",
    "$$"
   ]
  },
  {
   "cell_type": "markdown",
   "metadata": {
    "id": "DOUJSbm4Ab4Q"
   },
   "source": [
    "## Error Analysis"
   ]
  },
  {
   "cell_type": "markdown",
   "metadata": {
    "id": "zXEmaaWgZQgw"
   },
   "source": [
    "**Practice**\n",
    "\n",
    "Consider the function $f(x) = \\sin(x)(1-x)$. The goal of this problem is to make sense of the discussion of the \"order\" of the derivative approximation.\n",
    "\n",
    "* Find f'(x) by hand\n",
    "* Verify that $f'(1) = -\\sin(1) \\approx -0.841471$\n",
    "* To approximate the first derivative at $x=1$ numerically with our first order approximation formula, we calculate"
   ]
  },
  {
   "cell_type": "markdown",
   "metadata": {
    "id": "1wKv3iD7Zhva"
   },
   "source": [
    "| $h$ | Approx. of $f'(1)$ | Exact Value of $f'(1)$ | Abs. % Error |\n",
    "-------| -----| -----| -----|\n",
    "| $2^{-1}$ |  | -0.841471 | 18.54181%|\n",
    "| $2^{-2}$ |  | -0.841471  |  |\n",
    "| $2^{-3}$ |  | -0.841471 |  |"
   ]
  },
  {
   "cell_type": "markdown",
   "metadata": {
    "id": "Ruk3En2t_01j"
   },
   "source": [
    "The following code will help automate this process"
   ]
  },
  {
   "cell_type": "code",
   "execution_count": null,
   "metadata": {
    "colab": {
     "base_uri": "https://localhost:8080/",
     "height": 136
    },
    "executionInfo": {
     "elapsed": 266,
     "status": "error",
     "timestamp": 1693977552574,
     "user": {
      "displayName": "Mario Banuelos",
      "userId": "01257122883850017165"
     },
     "user_tz": 420
    },
    "id": "0lTihFOqAQ__",
    "outputId": "0d5495c3-f2aa-45c4-9fcf-d68926a2319b"
   },
   "outputs": [],
   "source": [
    "import numpy as np\n",
    "import matplotlib.pyplot as plt\n",
    "\n",
    "exact = -np.sin(1) # what does this line do?\n",
    "H = 2.0**(-np.arange(1,10)) # what does this line do?\n",
    "AbsPctError = [] # start off with a blank list of errors\n",
    "\n",
    "for h in H:\n",
    "  approx = # FINISH THIS LINE OF CODE\n",
    "  AbsPctError.append( np.abs( (approx - exact)/exact ) )\n",
    "  if h==H[0]:\n",
    "    print(\"h=\",h,\"\\t Absolute Pct Error=\", AbsPctError[-1])\n",
    "  else:\n",
    "    err_reduction_factor = AbsPctError[-2]/AbsPctError[-1]\n",
    "    print(\"h=\",h,\"\\t Absolute Pct Error=\", AbsPctError[-1],\n",
    "              \"with error reduction\",err_reduction_factor)\n",
    "\n",
    "plt.loglog(H,AbsPctError,'b-*') # Why are we build a loglog plot?\n",
    "plt.grid()\n",
    "plt.show()"
   ]
  }
 ],
 "metadata": {
  "colab": {
   "authorship_tag": "ABX9TyPghZk5TdB7aR+sCXgYf23N",
   "provenance": []
  },
  "kernelspec": {
   "display_name": "Python 3 (ipykernel)",
   "language": "python",
   "name": "python3"
  },
  "language_info": {
   "codemirror_mode": {
    "name": "ipython",
    "version": 3
   },
   "file_extension": ".py",
   "mimetype": "text/x-python",
   "name": "python",
   "nbconvert_exporter": "python",
   "pygments_lexer": "ipython3",
   "version": "3.12.4"
  }
 },
 "nbformat": 4,
 "nbformat_minor": 4
}
