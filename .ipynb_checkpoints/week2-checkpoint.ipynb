{
 "cells": [
  {
   "cell_type": "markdown",
   "metadata": {
    "id": "h5vtHl_tvF87"
   },
   "source": [
    "[![Open in Colab](https://colab.research.google.com/assets/colab-badge.svg)](https://colab.research.google.com/github/MBanuelos/grad_numerical/blob/main/week2.ipynb)"
   ]
  },
  {
   "cell_type": "markdown",
   "metadata": {
    "id": "QNVQiyJkVtzS"
   },
   "source": [
    "# Week 2: Approximating Functions\n"
   ]
  },
  {
   "cell_type": "markdown",
   "metadata": {
    "id": "5UR4aBUE5ucb"
   },
   "source": [
    "## Floating Point Arithmetic"
   ]
  },
  {
   "cell_type": "code",
   "execution_count": null,
   "metadata": {
    "colab": {
     "base_uri": "https://localhost:8080/"
    },
    "executionInfo": {
     "elapsed": 16,
     "status": "ok",
     "timestamp": 1693267311859,
     "user": {
      "displayName": "Mario Banuelos",
      "userId": "01257122883850017165"
     },
     "user_tz": 420
    },
    "id": "gDE-0rGhKtJw",
    "outputId": "cf0f9efe-458f-4174-9bfb-48887600eafd"
   },
   "outputs": [],
   "source": [
    "# calculating binary of a number + bit size of a variable\n",
    "a = 7\n",
    "bin(a)\n",
    "a.bit_length()"
   ]
  },
  {
   "cell_type": "markdown",
   "metadata": {
    "id": "zAHSzd9iN6Gd"
   },
   "source": [
    "**Practice**\n",
    "\n",
    "What are the mantissa, sign bit, and exponent for the numbers $7_{10}$, $-7_{10}$, and $(0.1)_{10}$?"
   ]
  },
  {
   "cell_type": "markdown",
   "metadata": {
    "id": "fyHCljNmPmtK"
   },
   "source": [
    "**Practice**\n",
    "\n",
    "To make all of these ideas concrete, let's consider with a small computer system where each number is stored in the following format:\n",
    "\n",
    "$$\n",
    "s\\; E\\; b_1 b_2 b_3\n",
    "$$\n",
    "\n",
    "The first entry is a bit for the sign (0$=+$ and $1=-$). The second entry, $E$ is for the exponent, and we'll assume in this example that the exponent can be 0, 1, or -1. The three bits on the right represent the significand of the number.  Hence, every number in this number system takes the form\n",
    "\n",
    "$$\n",
    "(-1)^s \\times (1+ 0.b_1b_2b_3) \\times 2^{E}\n",
    "$$\n",
    "\n",
    "* What is the smallest positive number that can be represented in this form?\n",
    "* What is the largest positive number that can be represented in this form?\n",
    "* What is the machine precision in this number system?"
   ]
  },
  {
   "cell_type": "markdown",
   "metadata": {
    "id": "HsCLI4X05uM3"
   },
   "source": [
    "## Approximating Functions"
   ]
  },
  {
   "cell_type": "markdown",
   "metadata": {
    "id": "p2Fj9TokSfoK"
   },
   "source": [
    "**Practice**\n",
    "\n",
    "In this problem we’re going to make a bit of a wish list for all of the things that a computer will do when approximating a function. We’re going to complete the following sentence:\n",
    "*If we are going to approximate $f(x)$ near the point $x=x_0$ with a simpler function $g(x)$ then ...*\n",
    "\n",
    "(I’ll get us started with the first item that seems natural to wish for. The rest of the wish list is for you to complete.)\n",
    "\n",
    "* the functions $f(x)$ and $g(x)$ should agree at $x=x_0$. In other words, $f(x_0) = g(x_0)$\n",
    "* if $f(x)$ is increasing/decreasing to the right of $x=x_0$, then $g(x)$ ...\n",
    "* if $f(x)$ is increasing/decreasing to the left of $x=x_0$, then $g(x)$ ...\n",
    "* if $f(x)$ is concave up/down to the right of $x=x_0$, then $g(x)$ ...\n",
    "* if $f(x)$ is concave up/down to the left of $x=x_0$, then $g(x)$ ...\n",
    "* ... is there anything else you would add?"
   ]
  },
  {
   "cell_type": "markdown",
   "metadata": {
    "id": "6Q6HjQMZUHrk"
   },
   "source": [
    "**Practice**\n",
    "\n",
    "Let $f(x) = e^x$. Based on the lecture notes, build a cubic polynomial (Taylor Series) that approximates $f(x)=e^x$ near $x_0 = 0$."
   ]
  },
  {
   "cell_type": "markdown",
   "metadata": {
    "id": "JWXGPCQ1W_Q-"
   },
   "source": [
    "$$\n",
    "e^x \\approx 1 + x + \\frac{x^2}{2} + \\frac{x^3}{6}\n",
    "$$"
   ]
  },
  {
   "cell_type": "markdown",
   "metadata": {
    "id": "JryzH9fpXAtx"
   },
   "source": [
    "Now, we will practice plotting some of our approximations."
   ]
  },
  {
   "cell_type": "code",
   "execution_count": null,
   "metadata": {
    "id": "uVZxbLsQUk1f"
   },
   "outputs": [],
   "source": [
    "# import packages\n",
    "import numpy as np\n",
    "from plotly import graph_objs as go\n",
    "\n",
    "# data points along the x axis\n",
    "# your comments go here\n",
    "xdata = np.linspace(start = -3, stop = 3, num = 50)\n",
    "\n",
    "# data points along the y axis (y = e^x)\n",
    "yexp = np.exp(xdata)\n",
    "#y1 = xdata**2"
   ]
  },
  {
   "cell_type": "code",
   "execution_count": null,
   "metadata": {
    "colab": {
     "base_uri": "https://localhost:8080/"
    },
    "executionInfo": {
     "elapsed": 4,
     "status": "ok",
     "timestamp": 1693442952770,
     "user": {
      "displayName": "Mario Banuelos",
      "userId": "01257122883850017165"
     },
     "user_tz": 420
    },
    "id": "etfhkH4F_i9F",
    "outputId": "ec4ed5c9-0e75-4c50-8f81-bc64ac50a992"
   },
   "outputs": [],
   "source": [
    "#yexp\n",
    "y1 = 1 + xdata + (xdata**2)/2 + (xdata**3)/6\n",
    "y1"
   ]
  },
  {
   "cell_type": "code",
   "execution_count": null,
   "metadata": {
    "colab": {
     "base_uri": "https://localhost:8080/",
     "height": 542
    },
    "executionInfo": {
     "elapsed": 4,
     "status": "ok",
     "timestamp": 1693442952929,
     "user": {
      "displayName": "Mario Banuelos",
      "userId": "01257122883850017165"
     },
     "user_tz": 420
    },
    "id": "6GuyNJ7ZWqdH",
    "outputId": "7da7d9db-23bc-4b6f-aff9-227e52d6add8"
   },
   "outputs": [],
   "source": [
    "# define a single plot\n",
    "fig = go.Figure(go.Scatter(x=xdata, y=yexp, name='$f(x) = e^x$'))\n",
    "\n",
    "# adding a trace\n",
    "fig.add_trace(go.Scatter(x=xdata, y=y1, name=r'$1 + x + \\frac{x^2}{2} + x^3/6$'))\n",
    "\n",
    "fig.update_layout(title = 'Plot of f(x)')\n",
    "fig.show()"
   ]
  },
  {
   "cell_type": "markdown",
   "metadata": {
    "id": "D96XFSTsA5yl"
   },
   "source": [
    "**Practice**\n",
    "Consider the function\n",
    "\n",
    "$$\n",
    "f(x) = \\frac{1}{1-x}\n",
    "$$\n",
    "\n",
    "and build a Taylor Series centered at $x_0 = 0$.\n",
    "\n",
    "Plot the function, and at least 2 approximations. What do you notice?\n"
   ]
  },
  {
   "cell_type": "code",
   "execution_count": null,
   "metadata": {
    "id": "EQCAz0dSBcJy"
   },
   "outputs": [],
   "source": [
    "# define the new function\n",
    "fx = 1/(1-xdata)\n",
    "# define approximation\n",
    "fx_approx = 1 + xdata + xdata**2\n"
   ]
  },
  {
   "cell_type": "markdown",
   "metadata": {
    "id": "DOUJSbm4Ab4Q"
   },
   "source": [
    "## Approximation Error (con Taylor Series)"
   ]
  },
  {
   "cell_type": "markdown",
   "metadata": {
    "id": "zXEmaaWgZQgw"
   },
   "source": [
    "**Discussion Q:** With the function from the previous exercise, what is the expected and absolute error of the linear, quadratic, and cubic function when trying to approximate $e^{0.1}$ (`np.exp(0.1)`)\n",
    "\n",
    "- Complete the table below.\n",
    "- Add a plot (with appropriate labels) of your approximations."
   ]
  },
  {
   "cell_type": "markdown",
   "metadata": {
    "id": "1wKv3iD7Zhva"
   },
   "source": [
    "| Taylor Series | Approx. | Absolute Error | Expected Error |\n",
    "-------| -----| -----| -----|\n",
    "| 0th order |  1 | 0.10517 | O($x$) = 0.1|\n",
    "| 1st order | 1.1 | 0.00517  | O($x^2$) = 0.01 |\n",
    "| 2nd order |  |  |  |\n",
    "| 3rd order |  |  |  |"
   ]
  },
  {
   "cell_type": "code",
   "execution_count": null,
   "metadata": {
    "colab": {
     "base_uri": "https://localhost:8080/"
    },
    "executionInfo": {
     "elapsed": 331,
     "status": "ok",
     "timestamp": 1693444452942,
     "user": {
      "displayName": "Mario Banuelos",
      "userId": "01257122883850017165"
     },
     "user_tz": 420
    },
    "id": "xPlJ_N6sY71m",
    "outputId": "464e92cf-7eb8-4802-85f9-13826b570387"
   },
   "outputs": [],
   "source": [
    "abs(np.exp(0.1) - 1)"
   ]
  },
  {
   "cell_type": "markdown",
   "metadata": {
    "id": "Ruk3En2t_01j"
   },
   "source": [
    "**Practice** How does the error change when you approximate $f(x) = e^x$ centered at $x_0=1$?\n",
    "\n",
    "- Add a table to support your conclusions.\n",
    "- Add a plot (with appropriate labels) of your approximations."
   ]
  },
  {
   "cell_type": "code",
   "execution_count": null,
   "metadata": {
    "id": "0lTihFOqAQ__"
   },
   "outputs": [],
   "source": []
  },
  {
   "cell_type": "markdown",
   "metadata": {
    "id": "9M7MKcU5C1lr"
   },
   "source": [
    "**Practice** Write the Taylor Series for $f(x) = \\sin(x)$ centered at $x_0=0$. How is this error different from the one when $f(x) = e^x$?\n",
    "\n",
    "- Add a table to support your conclusions.\n",
    "- Add a plot (with appropriate labels) of your approximations."
   ]
  },
  {
   "cell_type": "code",
   "execution_count": null,
   "metadata": {
    "id": "V-DkbCJTDKtE"
   },
   "outputs": [],
   "source": []
  }
 ],
 "metadata": {
  "colab": {
   "authorship_tag": "ABX9TyOJao3VQUGa4erWyKmoP9Z2",
   "provenance": [],
   "toc_visible": true
  },
  "kernelspec": {
   "display_name": "Python 3 (ipykernel)",
   "language": "python",
   "name": "python3"
  },
  "language_info": {
   "codemirror_mode": {
    "name": "ipython",
    "version": 3
   },
   "file_extension": ".py",
   "mimetype": "text/x-python",
   "name": "python",
   "nbconvert_exporter": "python",
   "pygments_lexer": "ipython3",
   "version": "3.12.4"
  }
 },
 "nbformat": 4,
 "nbformat_minor": 4
}
