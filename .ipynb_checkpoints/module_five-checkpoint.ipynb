{
 "cells": [
  {
   "cell_type": "markdown",
   "id": "33ab8618",
   "metadata": {},
   "source": [
    "# Module 5: Beyond Finite Differences"
   ]
  },
  {
   "cell_type": "markdown",
   "id": "25cff30c",
   "metadata": {},
   "source": [
    "... to be added :]"
   ]
  },
  {
   "cell_type": "code",
   "execution_count": null,
   "id": "f686f274",
   "metadata": {},
   "outputs": [],
   "source": []
  }
 ],
 "metadata": {
  "kernelspec": {
   "display_name": "Python 3 (ipykernel)",
   "language": "python",
   "name": "python3"
  },
  "language_info": {
   "codemirror_mode": {
    "name": "ipython",
    "version": 3
   },
   "file_extension": ".py",
   "mimetype": "text/x-python",
   "name": "python",
   "nbconvert_exporter": "python",
   "pygments_lexer": "ipython3",
   "version": "3.9.7"
  }
 },
 "nbformat": 4,
 "nbformat_minor": 5
}
