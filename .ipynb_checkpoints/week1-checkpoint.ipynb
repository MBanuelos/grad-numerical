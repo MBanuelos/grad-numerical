{
 "cells": [
  {
   "cell_type": "markdown",
   "metadata": {},
   "source": [
    "[![Open in Colab](https://colab.research.google.com/assets/colab-badge.svg)](https://colab.research.google.com/github/MBanuelos/grad_numerical/blob/main/week1.ipynb)"
   ]
  },
  {
   "cell_type": "markdown",
   "metadata": {
    "id": "QNVQiyJkVtzS"
   },
   "source": [
    "# Week 1 - Intro to Numerical Analysis\n",
    "\n",
    "For this course, there will be a weekly participation notebooks. During each class session, you will have time to complete portions of these notebooks. The goal is for you to complete at least 90% of the notebook in class and this should very rarely be an additional 'homework' assignment. If you miss class, it is your responsibility to complete the notebook, ask questions, and turn it in by Friday.\n",
    "\n",
    "---\n",
    "\n",
    "To begin all assignments (whether participation or homework), please save a copy of this notebook to your Google Drive by clicking the Google Colab buttom at the top of this notebook. Be sure to check [Canvas](https://fresnostate.instructure.com) for due dates and reminders.\n",
    "\n",
    "---"
   ]
  },
  {
   "cell_type": "markdown",
   "metadata": {
    "id": "qTCiR2MT0b7e"
   },
   "source": [
    "## Philosophies for this Course\n",
    "\n",
    "* TIMTOWDI (Tim Toady)\n",
    "* Write Working Code First, Optimize Second"
   ]
  },
  {
   "cell_type": "markdown",
   "metadata": {
    "id": "p4UGFJsf0iCF"
   },
   "source": [
    "### Best practices\n",
    "\n",
    "1) For coding environments, provide detailed comments for interpretability and reproducibility. This will also help the future you when you come back to past assignments/code.\n",
    "\n",
    "2) Read the error message when your code does not work. They contain important information on how to debug your code.\n",
    "\n",
    "3) If you do something more than twice, automate that action.\n",
    "\n",
    "4) Write code that works first, then optimize!\n",
    "\n",
    "5) Notebooks can be split if they get too long. You want to be able to come back to a notebook without too much trouble and searching."
   ]
  },
  {
   "cell_type": "markdown",
   "metadata": {
    "id": "Hg_kvgt8V_SQ"
   },
   "source": [
    "## Introduction to Python and Colab"
   ]
  },
  {
   "cell_type": "markdown",
   "metadata": {
    "id": "k4OfbAUgkVAa"
   },
   "source": [
    "<div class=\"alert alert-info\">\n",
    "This introduction to Jupyter Notebook is based on tutorials developed by <a href=\"http://www.jesshamrick.com\">Jessica Hamrick</a>.\n",
    "</div>"
   ]
  },
  {
   "cell_type": "markdown",
   "metadata": {
    "id": "sCu7cC9xkaYa"
   },
   "source": [
    "The notebook consists of a series of *cells*. For example, this text is in what is called a \"Markdown cell\".\n",
    "\n",
    "These cells support $\\LaTeX$ and a variety of other features (see toolbar above)."
   ]
  },
  {
   "cell_type": "markdown",
   "metadata": {
    "id": "XG26UzZJvD7P"
   },
   "source": [
    "**Practice:** Add a Markdown cell below and use at least 3 of the options from the toolbar (for example, bold, inserting a link, a picture, LaTeX, etc.)\n"
   ]
  },
  {
   "cell_type": "markdown",
   "metadata": {
    "id": "8fsTYRSGuSxT"
   },
   "source": []
  },
  {
   "cell_type": "markdown",
   "metadata": {
    "id": "7R9I89oluz4u"
   },
   "source": [
    "The following cell is a \"code cell\":"
   ]
  },
  {
   "cell_type": "code",
   "execution_count": null,
   "metadata": {
    "colab": {
     "base_uri": "https://localhost:8080/"
    },
    "executionInfo": {
     "elapsed": 347,
     "status": "ok",
     "timestamp": 1692666039739,
     "user": {
      "displayName": "Mario Banuelos",
      "userId": "01257122883850017165"
     },
     "user_tz": 420
    },
    "id": "5pbPETibkgYh",
    "outputId": "8a1c3cb9-8a2f-4c24-ba1d-b707f65c3e72"
   },
   "outputs": [],
   "source": [
    "# this is a code cell\n",
    "# this is a comment - comments are for you or for anyone else reading your work\n",
    "\n",
    "# multiply example\n",
    "29 * 21\n",
    "\n",
    "# division\n",
    "28/7"
   ]
  },
  {
   "cell_type": "markdown",
   "metadata": {
    "id": "VuFo-S9uk1HU"
   },
   "source": [
    "### Executing cells"
   ]
  },
  {
   "cell_type": "markdown",
   "metadata": {
    "id": "Wc25yPalk61N"
   },
   "source": [
    "Code cells can contain any valid Python code in them. When you run the cell, the code is executed and any output is displayed."
   ]
  },
  {
   "cell_type": "markdown",
   "metadata": {
    "id": "3WSdTow6lG3Q"
   },
   "source": [
    "<div class=\"alert alert-info\">\n",
    "\n",
    "You can execute cells with <b><code>Ctrl-Enter</code></b> (which will keep the cell selected), or <b><code>Shift-Enter</code></b> (which will select the next cell).\n",
    "</div>"
   ]
  },
  {
   "cell_type": "markdown",
   "metadata": {
    "id": "PXeDPllLlNrc"
   },
   "source": [
    "Try running the following cell and see what it prints out:"
   ]
  },
  {
   "cell_type": "code",
   "execution_count": null,
   "metadata": {
    "colab": {
     "base_uri": "https://localhost:8080/"
    },
    "executionInfo": {
     "elapsed": 16,
     "status": "ok",
     "timestamp": 1692826857117,
     "user": {
      "displayName": "Mario Banuelos",
      "userId": "01257122883850017165"
     },
     "user_tz": 420
    },
    "id": "IUys1USRlOTI",
    "outputId": "d261f61c-7aad-4f28-f143-1c97114e3b60"
   },
   "outputs": [],
   "source": [
    "# print() is a function that prints what is in the parentheses (usually in quotes)\n",
    "print(\"Printing the numbers from 1-10:\")\n",
    "\n",
    "# this is a for loop which repeats the command inside of the indented space\n",
    "for i in range(1, 11):\n",
    "  # print using f strings\n",
    "  print(f\"{i}\")\n",
    "# print another message\n",
    "print(\"Done printing numbers.\")"
   ]
  },
  {
   "cell_type": "markdown",
   "metadata": {
    "id": "IGMT4g6dwisG"
   },
   "source": [
    "**Practice:** Copy and paste the code from above into the code cell below and change the numbers in the parentheses of `range`. What do you observe?"
   ]
  },
  {
   "cell_type": "code",
   "execution_count": null,
   "metadata": {
    "id": "5xy_SU2_w0jW"
   },
   "outputs": [],
   "source": []
  },
  {
   "cell_type": "markdown",
   "metadata": {
    "id": "CrZE6lqCl8Qb"
   },
   "source": [
    "### Python Kernel"
   ]
  },
  {
   "cell_type": "markdown",
   "metadata": {
    "id": "O6gsN-QbmCEC"
   },
   "source": [
    "When you first start a notebook, you are also starting what is called a *kernel*. This is a special program that runs in the background and executes code (by default, this is Python, but it could be other languages too, like R!). Whenever you run a code cell, you are telling the kernel to execute the code that is in the cell, and to print the output (if any).\n",
    "\n",
    "Just like if you were typing code at the Python interpreter, you need to make sure your variables are declared before you can use them. What will happen when you run the following cell? Try it and see:"
   ]
  },
  {
   "cell_type": "code",
   "execution_count": null,
   "metadata": {
    "colab": {
     "base_uri": "https://localhost:8080/",
     "height": 181
    },
    "executionInfo": {
     "elapsed": 366,
     "status": "error",
     "timestamp": 1692835336809,
     "user": {
      "displayName": "Mario Banuelos",
      "userId": "01257122883850017165"
     },
     "user_tz": 420
    },
    "id": "dM-ClqZRmfeD",
    "outputId": "afadde53-b9da-4362-9acb-8807c09e0652"
   },
   "outputs": [],
   "source": [
    "a"
   ]
  },
  {
   "cell_type": "markdown",
   "metadata": {
    "id": "k096lRhMmcSI"
   },
   "source": [
    "What does the error tell you?"
   ]
  },
  {
   "cell_type": "markdown",
   "metadata": {
    "id": "mUdzVcblxGC3"
   },
   "source": [
    "Let's modify the cell above so that `a` is declared first."
   ]
  },
  {
   "cell_type": "code",
   "execution_count": null,
   "metadata": {
    "colab": {
     "base_uri": "https://localhost:8080/"
    },
    "executionInfo": {
     "elapsed": 346,
     "status": "ok",
     "timestamp": 1692835467829,
     "user": {
      "displayName": "Mario Banuelos",
      "userId": "01257122883850017165"
     },
     "user_tz": 420
    },
    "id": "tKIWC6sKxQ1g",
    "outputId": "75ac7628-78bb-4bef-e6db-54179f50e524"
   },
   "outputs": [],
   "source": [
    "# here, we define a\n",
    "a = 4\n",
    "a"
   ]
  },
  {
   "cell_type": "markdown",
   "metadata": {
    "id": "sfj8sJDM0_CW"
   },
   "source": [
    "Now let's write a comment on the code cell above."
   ]
  },
  {
   "cell_type": "markdown",
   "metadata": {
    "id": "siu1loqa04wB"
   },
   "source": [
    "Some random/built-in functions are\n",
    "\n",
    "- `abs()`\n",
    "- `help()`\n",
    "- `print()`"
   ]
  },
  {
   "cell_type": "code",
   "execution_count": null,
   "metadata": {
    "colab": {
     "base_uri": "https://localhost:8080/"
    },
    "executionInfo": {
     "elapsed": 344,
     "status": "ok",
     "timestamp": 1692835489320,
     "user": {
      "displayName": "Mario Banuelos",
      "userId": "01257122883850017165"
     },
     "user_tz": 420
    },
    "id": "4TMB-ewn07-3",
    "outputId": "7e658f37-5b60-492b-9cf7-6f8443bd0d1b"
   },
   "outputs": [],
   "source": [
    "# if I wanted more about abs(), I could use the help() function\n",
    "help(abs)"
   ]
  },
  {
   "cell_type": "markdown",
   "metadata": {
    "id": "z2wmNQqm1IJK"
   },
   "source": [
    "**Practice:** What are some other built-in functions in Python (feel free to look them up)? Get `help` on one of the ones that are not listed above."
   ]
  },
  {
   "cell_type": "code",
   "execution_count": null,
   "metadata": {
    "colab": {
     "base_uri": "https://localhost:8080/"
    },
    "executionInfo": {
     "elapsed": 177,
     "status": "ok",
     "timestamp": 1692835539820,
     "user": {
      "displayName": "Mario Banuelos",
      "userId": "01257122883850017165"
     },
     "user_tz": 420
    },
    "id": "o69YL5Jy29JL",
    "outputId": "77482a50-dfbe-4466-ebad-0709463c1d68"
   },
   "outputs": [],
   "source": [
    "abs(-4)"
   ]
  },
  {
   "cell_type": "code",
   "execution_count": null,
   "metadata": {
    "executionInfo": {
     "elapsed": 364,
     "status": "ok",
     "timestamp": 1692835825833,
     "user": {
      "displayName": "Mario Banuelos",
      "userId": "01257122883850017165"
     },
     "user_tz": 420
    },
    "id": "zXLeDG0O3f94"
   },
   "outputs": [],
   "source": [
    "# other functions people searched\n",
    "# ascii, bin, sum"
   ]
  },
  {
   "cell_type": "markdown",
   "metadata": {
    "id": "n08eEvlfWE_n"
   },
   "source": [
    "## Intro to Numerical Analysis"
   ]
  },
  {
   "cell_type": "markdown",
   "metadata": {
    "id": "aJNnxttBR_WQ"
   },
   "source": [
    "**Practice**\n",
    "\n",
    "By hand (no computers!) compute the first 12 terms of this sequence with the initial condition $x_0 = 1/10$.\n",
    "\n",
    "$$\n",
    "x_{n+1} = \\left\\{ \\begin{array}{ll} 2x_n, & x_n \\in [0,\\frac{1}{2}] \\\\ 2x_n - 1, & x_n \\in (\\frac{1}{2},1] \\end{array} \\right.\n",
    "$$"
   ]
  },
  {
   "cell_type": "markdown",
   "metadata": {
    "id": "bE0cLs7WY-zL"
   },
   "source": [
    "$$\n",
    "1/10, 2/10, 4/10, 8/10, 6/10, 2/10, 4/10, 8/10, 6/10, 2/10,\n",
    "$$"
   ]
  },
  {
   "cell_type": "markdown",
   "metadata": {
    "id": "Dm4tt8uhSDKT"
   },
   "source": [
    "**Practice**\n",
    "\n",
    "Now use a spreadsheet and to do the computations. Do you get the same answers?"
   ]
  },
  {
   "cell_type": "markdown",
   "metadata": {
    "id": "7QrHEwDqax6K"
   },
   "source": [
    "[ Put your response here + a link to your Google Sheet ]"
   ]
  },
  {
   "cell_type": "markdown",
   "metadata": {
    "id": "tCx-nCl6SGGA"
   },
   "source": [
    "**Practice**\n",
    "Finally, solve this problem with Python. Some starter code is given to you below.\n",
    "\n",
    "```python\n",
    "# define x\n",
    "x = 1.0/10\n",
    "# calculate the first 50 terms using this rule\n",
    "for n in range(50):\n",
    "  # check if the first condition is met\n",
    "    if :\n",
    "        # put the correct assignment here\n",
    "        \n",
    "  # if the first condition is not met, do this\n",
    "    else:\n",
    "        # put the correct assigment here\n",
    "    print(x)\n",
    "```"
   ]
  },
  {
   "cell_type": "markdown",
   "metadata": {
    "id": "aYjJnV6qSSBf"
   },
   "source": [
    "**Practice**\n",
    "\n",
    "What do you notice? What do you think happened on the computer and why did it give you a different answer?  What, do you suppose, is the cautionary tale hiding behind the scenes with this problem?"
   ]
  },
  {
   "cell_type": "markdown",
   "metadata": {
    "id": "GX09KFRd8ihr"
   },
   "source": [
    "What I noticed is. ..."
   ]
  },
  {
   "cell_type": "code",
   "execution_count": null,
   "metadata": {
    "id": "7VzQklCMSWXG"
   },
   "outputs": [],
   "source": []
  },
  {
   "cell_type": "markdown",
   "metadata": {
    "id": "C9R59FDcSWzb"
   },
   "source": [
    "**Practice**\n",
    "\n",
    "Now what happens with this problem when you start with $x_0 = 1/8$?  "
   ]
  },
  {
   "cell_type": "code",
   "execution_count": null,
   "metadata": {
    "id": "B6cOL4usSXt9"
   },
   "outputs": [],
   "source": []
  },
  {
   "cell_type": "markdown",
   "metadata": {
    "id": "pY86D3xX5j2U"
   },
   "source": [
    "## Arithmetic in Base 2"
   ]
  },
  {
   "cell_type": "markdown",
   "metadata": {
    "id": "3ls173Do54se"
   },
   "source": [
    "**Practice**\n",
    "\n",
    "Express the following binary numbers in base-10.\n",
    "\n",
    "* (a) $111_2$\n",
    "* (b) $10,101_2$\n",
    "\n",
    "**Practice**\n",
    "\n",
    "Discussion: With your group discuss how you would convert a base-10 number into its binary representation.  Once you have a proposed method, apply it to the number $237_{10}$ who's base-2 expression is $11,101,101_2$?"
   ]
  },
  {
   "cell_type": "markdown",
   "metadata": {
    "id": "trGdV-zEijg1"
   },
   "source": []
  },
  {
   "cell_type": "markdown",
   "metadata": {
    "id": "MYblP3SXgOFE"
   },
   "source": [
    "**Practice**\n",
    "\n",
    "Convert the base 10 fraction $1/10$ into binary. Use your solution to fully describe what went wrong in problems"
   ]
  },
  {
   "cell_type": "code",
   "execution_count": null,
   "metadata": {},
   "outputs": [],
   "source": []
  },
  {
   "cell_type": "code",
   "execution_count": null,
   "metadata": {
    "id": "gDE-0rGhKtJw"
   },
   "outputs": [],
   "source": [
    "# calculating binary of a number + bit size of a variable\n",
    "a = 7\n",
    "bin(a)\n",
    "a.bit_length()"
   ]
  }
 ],
 "metadata": {
  "colab": {
   "authorship_tag": "ABX9TyNCxd7LQrzJwn4Y9kDROCav",
   "provenance": []
  },
  "kernelspec": {
   "display_name": "Python 3 (ipykernel)",
   "language": "python",
   "name": "python3"
  },
  "language_info": {
   "codemirror_mode": {
    "name": "ipython",
    "version": 3
   },
   "file_extension": ".py",
   "mimetype": "text/x-python",
   "name": "python",
   "nbconvert_exporter": "python",
   "pygments_lexer": "ipython3",
   "version": "3.12.4"
  }
 },
 "nbformat": 4,
 "nbformat_minor": 4
}
