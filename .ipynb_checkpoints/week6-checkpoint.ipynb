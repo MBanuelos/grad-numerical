{
 "cells": [
  {
   "cell_type": "markdown",
   "metadata": {},
   "source": [
    "[![](https://colab.research.google.com/assets/colab-badge.svg)](https://colab.research.google.com/github/MBanuelos/grad-numerical/blob/main/week6.ipynb)"
   ]
  },
  {
   "cell_type": "markdown",
   "metadata": {
    "id": "h5vtHl_tvF87"
   },
   "source": [
    "**Name:** [Type Your Name Here]"
   ]
  },
  {
   "cell_type": "markdown",
   "metadata": {
    "id": "QNVQiyJkVtzS"
   },
   "source": [
    "# MATH 291T - Week 6 Participation\n",
    "\n",
    "---\n",
    "\n",
    "To begin all assignments (whether participation or homework), please save a copy of this notebook to your Google Drive by clicking **File -> Save a copy in Drive**\n",
    "\n",
    "---"
   ]
  },
  {
   "cell_type": "code",
   "execution_count": 1,
   "metadata": {
    "id": "ix9zLStNEIDL"
   },
   "outputs": [],
   "source": [
    "import numpy as np\n",
    "import plotly.graph_objects as go\n",
    "import scipy.misc\n",
    "import scipy.integrate "
   ]
  },
  {
   "cell_type": "markdown",
   "metadata": {
    "id": "yGDLeCZjZn34"
   },
   "source": [
    "## Intro to ODEs"
   ]
  },
  {
   "cell_type": "markdown",
   "metadata": {
    "id": "rW8rR2R0FANN"
   },
   "source": [
    "**Practice**\n",
    "\n",
    "Describe the plot of the function that would model the following scenario,\n",
    "\n",
    "A drug is eliminated from the body via natural metabolism. Assume that there is some initial amount of drug in the body. What does the function modeling the amount of drug in the system look like over time?"
   ]
  },
  {
   "cell_type": "markdown",
   "metadata": {
    "id": "XyBLZxRmf08z"
   },
   "source": []
  },
  {
   "cell_type": "markdown",
   "metadata": {
    "id": "yyfqWKoTgC2Q"
   },
   "source": [
    "**Practice**\n",
    "\n",
    "Consider the differential equation $x' = 3x$ with an initial condition $x(0)=4.$ Which of the following functions is a solution to this differential equation, and what is the value of the constant in the function?\n",
    "\n",
    "1. $x(t) = C \\sin(3t)$\n",
    "2. $x(t) = C e^{3t}$\n",
    "3. $x(t) = C t^3 $\n",
    "4. $x(t) = \\sin(3t) + C$\n",
    "5. $x(t) = e^{3t} + C$\n",
    "\n",
    "For the one that is the solution, please type your solution below."
   ]
  },
  {
   "cell_type": "markdown",
   "metadata": {
    "id": "j97-Vqnrgyay"
   },
   "source": []
  },
  {
   "cell_type": "markdown",
   "metadata": {
    "id": "Gq1uW9sEhBKj"
   },
   "source": [
    "## Separation of Variables"
   ]
  },
  {
   "cell_type": "markdown",
   "metadata": {
    "id": "cKGsLKtvhOdb"
   },
   "source": [
    "**Practice**\n",
    "\n",
    "Solve the differential equation $x' = 2x + 12$ with $x(0)=2$ using separation of variables.\n",
    "\n",
    "Please type your answer below.\n",
    "\n",
    "Substitute your solution into the differential equation and verify that it solves it."
   ]
  },
  {
   "cell_type": "markdown",
   "metadata": {
    "id": "Lbsy5aDsnAj-"
   },
   "source": [
    "ANS:"
   ]
  },
  {
   "cell_type": "markdown",
   "metadata": {
    "id": "v2EKvx9Kiake"
   },
   "source": [
    "**Practice**\n",
    "\n",
    "Solve the differential equation\n",
    "$$\n",
    "\\frac{dx}{dt} = x \\sin(t)\n",
    "$$\n",
    "\n",
    "with $x(0) = 1$ using separation of variables.\n",
    "\n",
    "Please type your answer below. Substitute your solution into the differential equation and verify that it solves it."
   ]
  },
  {
   "cell_type": "markdown",
   "metadata": {
    "id": "W7UPhs-SnB3x"
   },
   "source": [
    "ANS:"
   ]
  },
  {
   "cell_type": "code",
   "execution_count": null,
   "metadata": {
    "id": "8M2Mi7i6hC26"
   },
   "outputs": [],
   "source": []
  },
  {
   "cell_type": "markdown",
   "metadata": {
    "id": "J4IbWS1snZV3"
   },
   "source": [
    "## Euler's Method\n",
    "\n",
    " We want to approximate a solution to $x'(t) = f(t,x(t))$.\n",
    "\n",
    "Recall that\n",
    "$$\n",
    "x'(t) = \\frac{x(t+h) - x(t)}{h} + \\mathcal{O}(h)\n",
    "$$\n",
    "\n",
    "so the differential equation $x'(t) = f(x(t),t)$ becomes\n",
    "\n",
    "$$\n",
    "\\frac{x(t+h) - x(t)}{h} \\approx f(x(t),t).\n",
    "$$\n",
    "\n",
    "Rewriting as a difference equation, letting $x_{n+1} = x(t_n+h)$ and $x_n = x(t_n)$, we get\n",
    "\n",
    "$$\n",
    "x_{n+1} = x_n + h f(x_n, t_n)\n",
    "$$"
   ]
  },
  {
   "cell_type": "markdown",
   "metadata": {
    "id": "T2R8uS8doXh7"
   },
   "source": [
    "**Practice**\n",
    "\n",
    "Consider the differential equation $x' = 0.5x$ with $x(0)=6$.\n",
    "\n",
    "Complete the following table using Euler's method, with $h=1$.\n",
    "\n",
    "You can either write code to do this or do it by hand.\n",
    "\n",
    "\n",
    "t | 0 | 1 | 2 | 3 | 4 | 5 | 6 |\n",
    "- | - | - | - | - | - | - | - |\n",
    "Approximation of x(t) | 6 | - | - | - | - | - | - |\n"
   ]
  },
  {
   "cell_type": "code",
   "execution_count": 3,
   "metadata": {
    "id": "KxtSd0Vlo8Yl"
   },
   "outputs": [],
   "source": [
    "# if time permits, create a plot with your analytical\n",
    "# solution and the approximate solution\n",
    "import numpy as np\n",
    "t = np.array([0,1,2,3,4,5,6])\n",
    "approx = [6, 9, 13.5, 20.25, 30.375, 45.5625, 68.34375]\n",
    "\n",
    "f = lambda x: 6 * np.exp(0.5*x)\n",
    "actual = f(t)"
   ]
  },
  {
   "cell_type": "code",
   "execution_count": 5,
   "metadata": {
    "colab": {
     "base_uri": "https://localhost:8080/",
     "height": 468
    },
    "executionInfo": {
     "elapsed": 324,
     "status": "ok",
     "timestamp": 1695863723101,
     "user": {
      "displayName": "Mario Banuelos",
      "userId": "01257122883850017165"
     },
     "user_tz": 420
    },
    "id": "M9Svmp8EV5OU",
    "outputId": "388a8ddf-89b7-498b-e593-68a78a97f88a"
   },
   "outputs": [
    {
     "data": {
      "text/plain": [
       "[<matplotlib.lines.Line2D at 0x168021e20>]"
      ]
     },
     "execution_count": 5,
     "metadata": {},
     "output_type": "execute_result"
    },
    {
     "data": {
      "image/png": "[encoded data removed]",
      "text/plain": [
       "<Figure size 640x480 with 1 Axes>"
      ]
     },
     "metadata": {},
     "output_type": "display_data"
    }
   ],
   "source": [
    "import matplotlib.pyplot as plt\n",
    "plt.plot(t,actual)\n",
    "plt.plot(t, approx, 'o')"
   ]
  },
  {
   "cell_type": "code",
   "execution_count": null,
   "metadata": {
    "id": "3Nrj41Q6WPWH"
   },
   "outputs": [],
   "source": []
  }
 ],
 "metadata": {
  "colab": {
   "authorship_tag": "ABX9TyOUezB949bbtf3AW5qg7mQy",
   "provenance": []
  },
  "kernelspec": {
   "display_name": "Python 3 (ipykernel)",
   "language": "python",
   "name": "python3"
  },
  "language_info": {
   "codemirror_mode": {
    "name": "ipython",
    "version": 3
   },
   "file_extension": ".py",
   "mimetype": "text/x-python",
   "name": "python",
   "nbconvert_exporter": "python",
   "pygments_lexer": "ipython3",
   "version": "3.12.4"
  }
 },
 "nbformat": 4,
 "nbformat_minor": 4
}
