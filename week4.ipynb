{
 "cells": [
  {
   "cell_type": "markdown",
   "metadata": {
    "id": "QNVQiyJkVtzS"
   },
   "source": [
    "# Week 4 - Error Analysis & Integration Intro"
   ]
  },
  {
   "cell_type": "code",
   "execution_count": 2,
   "metadata": {
    "executionInfo": {
     "elapsed": 136,
     "status": "ok",
     "timestamp": 1695010239747,
     "user": {
      "displayName": "Mario Banuelos",
      "userId": "01257122883850017165"
     },
     "user_tz": 420
    },
    "id": "ix9zLStNEIDL"
   },
   "outputs": [],
   "source": [
    "import numpy as np\n",
    "import plotly.graph_objects as go"
   ]
  },
  {
   "cell_type": "markdown",
   "metadata": {
    "id": "DOUJSbm4Ab4Q"
   },
   "source": [
    "## Error Analysis"
   ]
  },
  {
   "cell_type": "markdown",
   "metadata": {
    "id": "zXEmaaWgZQgw"
   },
   "source": [
    "**Practice**\n",
    "\n",
    "Consider the function $f(x) = \\sin(x)(1-x)$. The goal of this problem is to make sense of the discussion of the \"order\" of the derivative approximation.\n",
    "\n",
    "* Find f'(x) by hand\n",
    "* Verify that $f'(1) = -\\sin(1) \\approx -0.841471$\n",
    "* To approximate the first derivative at $x=1$ numerically with our first order approximation formula, we calculate\n",
    "\n",
    "$$\n",
    "\\frac{f(1+h) - ??}{??}\n",
    "$$"
   ]
  },
  {
   "cell_type": "markdown",
   "metadata": {
    "id": "1wKv3iD7Zhva"
   },
   "source": [
    "| $h$ | Approx. of $f'(1)$ | Exact Value of $f'(1)$ | Absolute % Error |\n",
    "-------| -----| -----| -----|\n",
    "| $2^{-1}$ |  | -0.841471 | $\\frac{|A - E|}{E} \\times 100 =\n",
    "18.54181\n",
    "\\%$|\n",
    "| $2^{-2}$ |  | -0.841471  |  |\n",
    "| $2^{-3}$ |  | -0.841471 |  |"
   ]
  },
  {
   "cell_type": "code",
   "execution_count": null,
   "metadata": {
    "colab": {
     "base_uri": "https://localhost:8080/"
    },
    "executionInfo": {
     "elapsed": 516,
     "status": "ok",
     "timestamp": 1694478438246,
     "user": {
      "displayName": "Mario Banuelos",
      "userId": "01257122883850017165"
     },
     "user_tz": 420
    },
    "id": "xrqu2Cka7DIi",
    "outputId": "aeb94f2e-06a7-4a79-a9bf-a2c7ce5dbabf"
   },
   "outputs": [
    {
     "name": "stdout",
     "output_type": "stream",
     "text": [
      "The step size is 0.125\n",
      "The approximation is -0.9022675940990952\n",
      "The exact value is -0.8414709848078965\n",
      "The absolute % error is 7.225039292956516\n"
     ]
    }
   ],
   "source": [
    "# let's start with defining h\n",
    "h = 2**(-3)\n",
    "print('The step size is',h)\n",
    "\n",
    "# define approximation as out\n",
    "out = (np.sin(1+h)*(1-1-h) - np.sin(1)*0)/h\n",
    "print('The approximation is', out)\n",
    "# define exact\n",
    "print('The exact value is', -np.sin(1))\n",
    "# the absolute % error\n",
    "print('The absolute % error is', abs(out - -np.sin(1))/np.sin(1) * 100)"
   ]
  },
  {
   "cell_type": "markdown",
   "metadata": {
    "id": "Ruk3En2t_01j"
   },
   "source": [
    "The following code will help automate this process"
   ]
  },
  {
   "cell_type": "markdown",
   "metadata": {
    "id": "117ZllGZy2Hh"
   },
   "source": []
  },
  {
   "cell_type": "code",
   "execution_count": null,
   "metadata": {
    "colab": {
     "base_uri": "https://localhost:8080/"
    },
    "executionInfo": {
     "elapsed": 533,
     "status": "ok",
     "timestamp": 1694478627469,
     "user": {
      "displayName": "Mario Banuelos",
      "userId": "01257122883850017165"
     },
     "user_tz": 420
    },
    "id": "eZJ5OrAzy2sh",
    "outputId": "810ca0b0-b6a5-4b9d-c783-a2ae85449a80"
   },
   "outputs": [
    {
     "data": {
      "text/plain": [
       "array([0.5       , 0.25      , 0.125     , 0.0625    , 0.03125   ,\n",
       "       0.015625  , 0.0078125 , 0.00390625, 0.00195312])"
      ]
     },
     "execution_count": 7,
     "metadata": {},
     "output_type": "execute_result"
    }
   ],
   "source": [
    "2.0**(-np.arange(1,10))"
   ]
  },
  {
   "cell_type": "code",
   "execution_count": null,
   "metadata": {
    "colab": {
     "base_uri": "https://localhost:8080/",
     "height": 596
    },
    "executionInfo": {
     "elapsed": 1054,
     "status": "ok",
     "timestamp": 1694478908425,
     "user": {
      "displayName": "Mario Banuelos",
      "userId": "01257122883850017165"
     },
     "user_tz": 420
    },
    "id": "0lTihFOqAQ__",
    "outputId": "27ebafc8-d400-4bf9-9883-96dba1fc8120"
   },
   "outputs": [
    {
     "name": "stdout",
     "output_type": "stream",
     "text": [
      "h= 0.5 \t Absolute Pct Error= 0.1854181601184709\n",
      "h= 0.25 \t Absolute Pct Error= 0.12776867710089196 with error reduction 1.4512020029138777\n",
      "h= 0.125 \t Absolute Pct Error= 0.07225039292956516 with error reduction 1.7684149790776915\n",
      "h= 0.0625 \t Absolute Pct Error= 0.03815217748298682 with error reduction 1.8937423155410655\n",
      "h= 0.03125 \t Absolute Pct Error= 0.019573887040617487 with error reduction 1.9491364900501262\n",
      "h= 0.015625 \t Absolute Pct Error= 0.009910221068472835 with error reduction 1.9751211305353678\n",
      "h= 0.0078125 \t Absolute Pct Error= 0.004985780110301419 with error reduction 1.9876971806271069\n",
      "h= 0.00390625 \t Absolute Pct Error= 0.00250053851755135 with error reduction 1.9938825478216344\n",
      "h= 0.001953125 \t Absolute Pct Error= 0.0012521789951432975 with error reduction 1.9969497390149018\n"
     ]
    },
    {
     "data": {
      "image/png": "[encoded data removed]",
      "text/plain": [
       "<Figure size 640x480 with 1 Axes>"
      ]
     },
     "metadata": {},
     "output_type": "display_data"
    }
   ],
   "source": [
    "# import packages\n",
    "import numpy as np\n",
    "import matplotlib.pyplot as plt\n",
    "\n",
    "# define the exact value of f'(1)\n",
    "exact = -np.sin(1)\n",
    "# create an array of stepsizes from 2^(-1) to 2^(-10)\n",
    "H = 2.0**(-np.arange(1,10))\n",
    "AbsPctError = [] # start off with a blank list of errors\n",
    "\n",
    "for h in H:\n",
    "  # define approximation\n",
    "  approx = # FILL THIS IN\n",
    "  # calculate the abs percent error\n",
    "  AbsPctError.append( np.abs( (approx - exact)/exact ) )\n",
    "  if h==H[0]:\n",
    "    print(\"h=\",h,\"\\t Absolute Pct Error=\", AbsPctError[-1])\n",
    "  else:\n",
    "    err_reduction_factor = AbsPctError[-2]/AbsPctError[-1]\n",
    "    print(\"h=\",h,\"\\t Absolute Pct Error=\", AbsPctError[-1],\n",
    "              \"with error reduction\",err_reduction_factor)\n",
    "\n",
    "plt.loglog(H,AbsPctError,'b-*') # Why are we build a loglog plot?\n",
    "plt.grid()\n",
    "plt.show()"
   ]
  },
  {
   "cell_type": "markdown",
   "metadata": {
    "id": "g84kTzICZlbH"
   },
   "source": [
    "## Efficient Coding"
   ]
  },
  {
   "cell_type": "markdown",
   "metadata": {
    "id": "WBO695JQTUbk"
   },
   "source": [
    "Now, let's build a Python function that accepts\n",
    "* a mathematical funciton\n",
    "* the bounds of an interval,\n",
    "* and the number of subintervals.\n",
    "\n",
    "\n",
    "Some notes:\n",
    " * We can build Python functions in two ways:\n",
    "  - First, we can use the following format\n",
    "  ```python\n",
    "  def funname(input):\n",
    "    #some operation\n",
    "    return output\n",
    "  ```\n",
    "  - Next, we can use **lambda** functions (in one line)\n",
    "  ```python\n",
    "  funname = lambda x: #some operation with x\n",
    "  ```\n",
    "\n",
    "\n",
    "\n",
    " * A lambda function is a small anonymous function and usually only takes up one line of code\n",
    " * A lambda function can take any number of arguments, but can only have one expression.\n",
    "\n"
   ]
  },
  {
   "cell_type": "code",
   "execution_count": null,
   "metadata": {
    "id": "e6nv0QEa1Xuu"
   },
   "outputs": [],
   "source": [
    "def mydiv(a,b):"
   ]
  },
  {
   "cell_type": "code",
   "execution_count": null,
   "metadata": {
    "id": "8oW2aeMf120I"
   },
   "outputs": [],
   "source": [
    "# lambda function\n",
    "mydiv2 = lambda x, y: x/y"
   ]
  },
  {
   "cell_type": "code",
   "execution_count": null,
   "metadata": {
    "colab": {
     "base_uri": "https://localhost:8080/"
    },
    "executionInfo": {
     "elapsed": 525,
     "status": "ok",
     "timestamp": 1694479469046,
     "user": {
      "displayName": "Mario Banuelos",
      "userId": "01257122883850017165"
     },
     "user_tz": 420
    },
    "id": "8hOPjNS52KyC",
    "outputId": "cef9504f-2afa-40fe-dc4a-26b84a09aa6e"
   },
   "outputs": [
    {
     "data": {
      "text/plain": [
       "2.5"
      ]
     },
     "execution_count": 12,
     "metadata": {},
     "output_type": "execute_result"
    }
   ],
   "source": [
    "mydiv2(5,2)"
   ]
  },
  {
   "cell_type": "code",
   "execution_count": null,
   "metadata": {
    "id": "8LkpsJMpVPnT"
   },
   "outputs": [],
   "source": [
    "def FirstDeriv(f, a, b, N):\n",
    "  # define the grid\n",
    "  x = np.linspace(a,b,N+1)\n",
    "  # define the step size\n",
    "  h = x[1] - x[0]\n",
    "  # create an empty array for the first derivative\n",
    "  df = []\n",
    "\n",
    "  # calculate the deriv approx at each point\n",
    "  for j in np.arange(len(x) - 1):\n",
    "    df.append((f(x[j+1]) - f(x[j]))/ h )\n",
    "\n",
    "  return df"
   ]
  },
  {
   "cell_type": "code",
   "execution_count": null,
   "metadata": {
    "id": "CsYfH-t2XYOx"
   },
   "outputs": [],
   "source": [
    "# define f as lambda function w/ sin(x)\n",
    "f = ...\n",
    "# define the derivative with a lambda function\n",
    "exact_df = ...\n",
    "# define the end points and number of sub intervals\n",
    "a = ...\n",
    "b = ...\n",
    "N = ...\n",
    "# define x (for the plotting)\n",
    "x = ...\n",
    "\n",
    "# apply FirstDeriv function, save to df\n",
    "df = ..."
   ]
  },
  {
   "cell_type": "code",
   "execution_count": null,
   "metadata": {
    "colab": {
     "background_save": true,
     "base_uri": "https://localhost:8080/",
     "height": 542,
     "output_embedded_package_id": "1zpk_o27PFPr6C4ItTDczUtjCxR6iwbr2"
    },
    "executionInfo": {
     "elapsed": 21521,
     "status": "ok",
     "timestamp": 1694480680598,
     "user": {
      "displayName": "Mario Banuelos",
      "userId": "01257122883850017165"
     },
     "user_tz": 420
    },
    "id": "4pLBEV-CX1RR",
    "outputId": "f1b20a71-65dd-4ef3-8d57-47f25fd09b96"
   },
   "outputs": [
    {
     "data": {
      "text/plain": [
       "Output hidden; open in https://colab.research.google.com to view."
      ]
     },
     "metadata": {},
     "output_type": "display_data"
    }
   ],
   "source": [
    "fig = go.Figure()\n",
    "\n",
    "fig.add_trace(go.Scatter(x=x, y=f(x),  name='f(x) = sin(x)'))\n",
    "fig.add_trace(go.Scatter(x=x, y=exact_df(x), name='exact first deriv.'))\n",
    "fig.add_trace(go.Scatter(x=x, y=df, name = 'approx first deriv.'))"
   ]
  },
  {
   "cell_type": "code",
   "execution_count": null,
   "metadata": {
    "id": "9G0Li26UYDTc"
   },
   "outputs": [],
   "source": []
  },
  {
   "cell_type": "markdown",
   "metadata": {
    "id": "rezBH-PU4iq_"
   },
   "source": [
    "Change $a, b,$ or $N$ and write one or two observations you see."
   ]
  },
  {
   "cell_type": "markdown",
   "metadata": {
    "id": "yGDLeCZjZn34"
   },
   "source": [
    "## Integration"
   ]
  },
  {
   "cell_type": "markdown",
   "metadata": {
    "id": "bAtrENPGZuFq"
   },
   "source": [
    "**Practice**\n",
    "\n",
    "Consider the shaded area of the region under the function between $x=0$ and $x=2$.  \n",
    "\n",
    "<img src='https://numericalmethodssullivan.github.io/images/Ch03_InitialIntegral.png' width=\"400\">\n",
    "\n",
    "\n",
    "* What rectangle (with area 6) gives an upper bound for the area under the curve? Can you give a better upper bound?"
   ]
  },
  {
   "cell_type": "markdown",
   "metadata": {
    "id": "ut6AU2lwZ8dV"
   },
   "source": [
    "\n",
    "* Why must the area under the curve be greater than 3?"
   ]
  },
  {
   "cell_type": "markdown",
   "metadata": {
    "id": "VbWmuz4UZ9BR"
   },
   "source": [
    "* Is the area greater than 4? Why/Why not?"
   ]
  },
  {
   "cell_type": "markdown",
   "metadata": {
    "id": "wX_VQaB5Z9bR"
   },
   "source": [
    "* Work with your partner to give an estimate of the area and provide an estimate for the amount of error that you're making.\n"
   ]
  },
  {
   "cell_type": "markdown",
   "metadata": {
    "id": "tEGAjaPPHvvi"
   },
   "source": [
    "Estimates:"
   ]
  },
  {
   "cell_type": "code",
   "execution_count": null,
   "metadata": {
    "colab": {
     "base_uri": "https://localhost:8080/"
    },
    "executionInfo": {
     "elapsed": 336,
     "status": "ok",
     "timestamp": 1694652153621,
     "user": {
      "displayName": "Mario Banuelos",
      "userId": "01257122883850017165"
     },
     "user_tz": 420
    },
    "id": "kdcRUP2PaEB3",
    "outputId": "c9706fdc-39e5-4f8a-bea5-e9e16974f5fc"
   },
   "outputs": [
    {
     "data": {
      "text/plain": [
       "3.6835833333333334"
      ]
     },
     "execution_count": 2,
     "metadata": {},
     "output_type": "execute_result"
    }
   ],
   "source": [
    "area_est = []\n",
    "np.mean(area_est)"
   ]
  },
  {
   "cell_type": "markdown",
   "metadata": {
    "id": "rW8rR2R0FANN"
   },
   "source": [
    "**Practice**\n",
    "\n",
    "Write code to approximate an integral with Riemann sums. You should ALWAYS start by writing pseudo-code as comments in your function. Your Python function should accept a Python Function, a lower bound, an upper bound, the number of subintervals. Test your code on several functions for which you know the integral. You should write your code without any loops.\n",
    "\n",
    "We need:\n",
    "* step size - $\\Delta x = h$\n",
    "* $f(x)$\n",
    "* we need the bounds $a,b$\n",
    "* for Left-aligned R.S., we need the function values at the 'left' points in the interval $[a,b]$"
   ]
  },
  {
   "cell_type": "code",
   "execution_count": 15,
   "metadata": {
    "executionInfo": {
     "elapsed": 161,
     "status": "ok",
     "timestamp": 1695010539414,
     "user": {
      "displayName": "Mario Banuelos",
      "userId": "01257122883850017165"
     },
     "user_tz": 420
    },
    "id": "aM7jTth-FPE9"
   },
   "outputs": [],
   "source": [
    "def riemann_left(f, a, b, N):\n",
    "  x = np.linspace(a,b,N+1)\n",
    "  h = x[1] - x[0]\n",
    "  print(h)\n",
    "  print(x)\n",
    "  areas = f(x[0:N])*h # Q: how does this only evaluate at left points?\n",
    "  rsum = sum(areas)\n",
    "\n",
    "  return rsum"
   ]
  },
  {
   "cell_type": "code",
   "execution_count": 23,
   "metadata": {
    "colab": {
     "base_uri": "https://localhost:8080/"
    },
    "executionInfo": {
     "elapsed": 155,
     "status": "ok",
     "timestamp": 1695010852100,
     "user": {
      "displayName": "Mario Banuelos",
      "userId": "01257122883850017165"
     },
     "user_tz": 420
    },
    "id": "oSYmSKgLMKHr",
    "outputId": "e96221e4-91b7-44c9-90f0-6600473cfd9f"
   },
   "outputs": [
    {
     "name": "stdout",
     "output_type": "stream",
     "text": [
      "0.125\n",
      "[0.    0.125 0.25  0.375 0.5   0.625 0.75  0.875 1.   ]\n"
     ]
    },
    {
     "data": {
      "text/plain": [
       "0.8691061399106281"
      ]
     },
     "execution_count": 23,
     "metadata": {},
     "output_type": "execute_result"
    }
   ],
   "source": [
    "f = lambda x: np.cos(x)\n",
    "\n",
    "a = 0\n",
    "b = 1\n",
    "N = 8\n",
    "\n",
    "riemann_left(f, a, b, N)"
   ]
  },
  {
   "cell_type": "markdown",
   "metadata": {
    "id": "Li2-wYRTIiEg"
   },
   "source": [
    "**Theorem**\n",
    "\n",
    "In approximating the integral $\\int_a^b f(x) dx$ with a fixed interval width $\\Delta x$ we find an absolute percent error $P$.\n",
    "\n",
    "* If we use left rectangles and an interval width of $\\frac{\\Delta x}{M}$ then the absolute percent error will be approximately $\\underline{\\hspace{1in}}$.\n",
    "\n",
    "* If we use right rectangles and an interval width of $\\frac{\\Delta x}{M}$ then the absolute percent error will be approximately $\\underline{\\hspace{1in}}$.\n",
    "\n",
    "\n",
    "The previous theorem could be stated in an equivalent way.\n",
    "\n",
    "In approximating the integral $\\int_a^b f(x) dx$ with a fixed interval number of subintervals we find an absolute percent error $P$.\n",
    "\n",
    "* If we use left rectangles and $M$ times as many subintervals then the absolute percent error will be approximately $\\underline{\\hspace{1in}}$.\n",
    "\n",
    "* If we use right rectangles and $M$ times as many subintervals then the absolute percent error will be approximately $\\underline{\\hspace{1in}}$."
   ]
  },
  {
   "cell_type": "code",
   "execution_count": null,
   "metadata": {
    "id": "0H6rg7aqItHx"
   },
   "outputs": [],
   "source": []
  }
 ],
 "metadata": {
  "colab": {
   "authorship_tag": "ABX9TyOFRIQ4r+K6Oe5gWPckpm5Q",
   "provenance": []
  },
  "kernelspec": {
   "display_name": "Python 3 (ipykernel)",
   "language": "python",
   "name": "python3"
  },
  "language_info": {
   "codemirror_mode": {
    "name": "ipython",
    "version": 3
   },
   "file_extension": ".py",
   "mimetype": "text/x-python",
   "name": "python",
   "nbconvert_exporter": "python",
   "pygments_lexer": "ipython3",
   "version": "3.12.4"
  }
 },
 "nbformat": 4,
 "nbformat_minor": 4
}
