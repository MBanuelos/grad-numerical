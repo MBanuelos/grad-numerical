{
 "cells": [
  {
   "cell_type": "markdown",
   "id": "ac3303fa",
   "metadata": {},
   "source": [
    "# Module 1 - What is Numerical Analysis?"
   ]
  },
  {
   "cell_type": "markdown",
   "id": "29d7afdf-1d5c-4eab-a1d3-177df6a36772",
   "metadata": {},
   "source": [
    "## Intro to Numerical Analysis"
   ]
  },
  {
   "cell_type": "markdown",
   "id": "77071452-203f-413a-a40f-8f86b8d1c7a3",
   "metadata": {},
   "source": [
    "::: {.callout-note}\n",
    "\n",
    "Song Accompanying This Section - [Are You Bored Yet? - Wallows, Clairo, Big Data](https://youtu.be/0d2njLvP7MA?si=fJHzkZpzTSmSzuZZ)\n",
    "\n",
    ":::"
   ]
  },
  {
   "cell_type": "markdown",
   "id": "1edd2730-aff8-49de-a7a4-83860fdf42dd",
   "metadata": {},
   "source": [
    "::: {.callout-tip}\n",
    "\n",
    "In the 1950s and 1960s, the founding fathers of Numerical Analysis discovered that inexact arithmetic can be a source of danger, causing errors in results that ought to be right. The source of such problems is numerical instability that is, the amplification of rounding errors from microscopic to macroscopic scale by certain modes of computation.\n",
    "**[Oxford Professor Lloyd (Nick) Trefethen (2006)](https://en.wikipedia.org/wiki/Nick_Trefethen)**\n",
    "\n",
    ":::"
   ]
  },
  {
   "cell_type": "markdown",
   "id": "1f9acd07-a4b9-4889-b624-0edaaaba8f21",
   "metadata": {},
   "source": [
    "The field of Numerical Analysis is really the study of how to take mathematical problems and perform them efficiently and accurately on a computer. While the field of numerical analysis is quite powerful and wide-reaching, there are some mathematical problems where numerical analysis doesn’t make much sense (e.g. finding an algebraic derivative of a function, proving a theorem, uncovering a pattern in a sequence). However, for many problems a numerical method that gives an approximate answer is both more efficient and more versatile than any analytic technique. Let’s look at several examples. You can also watch a short introduction video here: https://youtu.be/yH0zhca0hbs"
   ]
  },
  {
   "cell_type": "markdown",
   "id": "39dee371-ed1d-4edc-9a66-f99494b89059",
   "metadata": {},
   "source": [
    "**Example from Algebra:**\n",
    "\n",
    "Solve the equation $\\ln(x)=\\sin(x)$ for $x$ in the interval \n",
    "$x \\in (0,\\pi)$. Stop and think about all of the algebra that you ever learned. You’ll quickly realize that there are no by-hand techniques that can solve this problem! A numerical approximation, however, is not so hard to come by."
   ]
  },
  {
   "cell_type": "markdown",
   "id": "8eddc5f9-a59c-49da-9005-b26817203a7e",
   "metadata": {},
   "source": [
    "**Example from Calculus:**\n",
    "\n",
    "What if we want to evaluate the following integral?\n",
    "\n",
    "$$\n",
    "\\int\\limits^{\\pi}_{0} \\sin(x^2) \\;dx\n",
    "$$\n",
    "\n",
    "Again, trying to use any of the possible techniques for using the Fundamental Theorem of Calculus, and hence finding an antiderivative, on the function $\\sin(x^2)$ is completely hopeless. Substitution, integration by parts, and all of the other techniques that you know will all fail. Again, a numerical approximation is not so difficult and is very fast! By the way, this integral (called the [Fresnel Sine Integral](https://en.wikipedia.org/wiki/Fresnel_integral)) actually shows up naturally in the field of optics and electromagnetism, so it is not just some arbitrary integral that I cooked up just for fun."
   ]
  },
  {
   "cell_type": "markdown",
   "id": "f8285a83-5813-4671-adfd-23ea4646caf9",
   "metadata": {},
   "source": [
    "**Example from Differential Equations:**\n",
    "\n",
    "Say we needed to solve the differential equation $\\frac{dy}{dt} = \\sin(y^2) + t$. The nonlinear nature of the problem precludes us from using most of the typical techniques (e.g. separation of variables, undetermined coefficients, Laplace Transforms, etc). However, computational methods that result in a plot of an approximate solution can be made very quickly and likely give enough of a solution to be usable."
   ]
  },
  {
   "cell_type": "markdown",
   "id": "51d1935b-3942-4783-826e-594b77b8c4d8",
   "metadata": {},
   "source": [
    "**Example from Linear Algebra:**\n",
    "\n",
    "You have probably never row reduced a matrix larger than $3 \\times 3$ or perhaps $4 \\times 4$ by hand. Instead, you often turn to technology to do the row reduction for you. You would be surprised to find that the standard row reduction algorithm (RREF) that you do by hand is not what a computer uses. Instead, there are efficient algorithms to do the basic operations of linear algebra (e.g. Gaussian elimination, matrix factorization, or eigenvalue decomposition)"
   ]
  },
  {
   "cell_type": "markdown",
   "id": "543d3986-d9d8-408f-a113-a0ed067df24b",
   "metadata": {},
   "source": [
    "In this chapter we will discuss some of the basic underlying ideas in Numerical Analysis, and the essence of the above quote from Nick Trefethen will be part of the focus of this chapter.\n",
    "Particularly, we need to know how a computer stores numbers and when that storage can get us into trouble.  On a more mathematical side, we offer a brief review of the Taylor\n",
    "Series from Calculus at the end of this chapter. The Taylor Series underpins many of our approximation methods in\n",
    "this class.  Finally, at the end of this chapter we provide several coding exercises that will help you to develop your programming skills.\n",
    "\n",
    "Let's begin."
   ]
  },
  {
   "cell_type": "markdown",
   "id": "065f8d30-d324-4d8f-9cf2-7f1c9587190f",
   "metadata": {},
   "source": [
    "## Arithmetic in Base 2"
   ]
  },
  {
   "cell_type": "markdown",
   "id": "28eabe29-dbe4-4c21-a2ed-baeed130daef",
   "metadata": {},
   "source": [
    "A computer circuit knows two states: on and off.  As such, anything saved in computer\n",
    "memory is stored using base-2 numbers.  This is called a binary number system.  To fully\n",
    "understand a binary number system it is worth while to pause and reflect on our base-10\n",
    "number system for a few moments. These binary digits are called bits, and are the basis of the binary representation of numbers.\n",
    "\n",
    "What do the digits in the number $735$ really mean?  The position of each digit tells\n",
    "us something particular about the magnitude of the overall number.  The number $735$ can\n",
    "be represented as a sum of powers of $10$ as\n",
    "\n",
    "$$\n",
    "735 = 700 + 30 + 5 =  7 \\times 10^2 + 3 \\times 10^1 + 5 \\times 10^0\n",
    "$$\n",
    "\n",
    "and we can read this number as $7$ hundreds, $3$ tens, and $5$ ones.\n",
    "As you can see, in a ''positional number system'' such as our base-10 system, the\n",
    "position of the number indicates the power of the base, and the value of the digit itself\n",
    "tells you the multiplier of that power.  This is contrary to number systems like Roman\n",
    "Numerals where the symbols themselves give us the number, and meaning of the position is\n",
    "somewhat flexible. The number ''48,329'' can therefore be interpreted as\n",
    "\n",
    "$$\n",
    "48,329 = 40,000 + 8,000 + 300 + 20 + 9 = 4 \\times 10^4 + 8 \\times 10^3 + 3 \\times 10^2 + 2\n",
    "\\times 10^1 + 9 \\times 10^0,\n",
    "$$\n",
    "\n",
    "Four ten thousands, eight thousands, three hundreds, two tens, and nine ones.\n",
    "\n",
    "Now let's switch to the number system used by computers: the binary number system.  In a\n",
    "binary number system the base is 2 so the only allowable digits are 0 and 1 (just like in\n",
    "base-10 the allowable digits were 0 through 9).  In binary (base-2), the number ''$101,101$'' can be interpreted as\n",
    "\n",
    "$$\n",
    "101,101_2 = 1 \\times 2^5 + 0 \\times 2^4 + 1 \\times 2^3 + 1 \\times 2^2 + 0 \\times 2^1 + 1\n",
    "\\times 2^0\n",
    "$$\n",
    "\n",
    "(where the subscript ''2'' indicates the base to the reader). If we put this back into base 10, so that we can read it more comfortably, we get\n",
    "\n",
    "$$\n",
    "101,101_2 = 32 + 0 + 8 + 4 + 0 + 1 = 45_{10}.\n",
    "$$\n",
    "\n",
    "The reader should take note that the commas in the numbers are only to allow for greater\n",
    "readability -- we can easily see groups of three digits and mentally keep track of what\n",
    "we're reading."
   ]
  },
  {
   "cell_type": "markdown",
   "id": "cae4e37e-9444-4c0b-a226-02c33ea21e82",
   "metadata": {},
   "source": [
    "**Example 1.1**\n",
    "\n",
    "Convert the number 137 from base 10 to base 2. \n",
    "\n",
    "**Solution:** One way to do the conversion is to first look for the largest power of 2 less than or equal to your number.  In this case, $128=2^7$ is the largest power of 2 that is less than 137. Then looking at the remainder, 9, look for the largest power of 2 that is less than this remainder. Repeat until you have the number. \n",
    "\n",
    "\\begin{align*}\n",
    "        137_{10} &= 128 + 8 + 1 \\\\\n",
    "        &= 2^7 + 2^3 + 2^0 \\\\\n",
    "        &= 1 \\times 2^7 + 0 \\times 2^6 + 0 \\times 2^5  + 0 \\times 2^4  + 1 \\times 2^3  + 0\n",
    "        \\times 2^2  + 0 \\times 2^1  + 1 \\times 2^0  \\\\\n",
    "        &= 10001001_2\n",
    "\\end{align*}\n",
    "\n",
    "Next we'll work with fractions and decimals.  For example, let's take the base 10 number\n",
    "$5.341_{10}$ and expand it out to get\n",
    "\n",
    "$$\n",
    "5.341_{10} = 5 + \\frac{3}{10} + \\frac{4}{100} + \\frac{1}{1000} = 5 \\times 10^0 + 3 \\times\n",
    "10^{-1} + 4 \\times 10^{-2} + 1 \\times 10^{-3}.\n",
    "$$\n",
    "\n",
    "The position to the right of the decimal point is the negative power of 10 for the given position. We can do a similar thing with binary decimals."
   ]
  },
  {
   "cell_type": "markdown",
   "id": "bbb0eabe-128e-446d-95d1-af9be88f253c",
   "metadata": {},
   "source": [
    "**Practice**\n",
    "\n",
    "Convert the base 10 decimal $0.635$ to binary using the following steps. \n",
    "\n",
    "* Multiply $0.635$ by 2.  The whole number part of the result is the first binary digit to the right of the decimal point. \n",
    "* Take the result of the previous multiplication and ignore the digit to the left of the decimal point. Multiply the remaining decimal by 2.  The whole number part is the second binary decimal digit. \n",
    "* Repeat the previous step until you have nothing left, until a repeating pattern has revealed itself, or until your precision is close enough.\n",
    "\n",
    "Explain why each step gives the binary digit that it does."
   ]
  },
  {
   "cell_type": "markdown",
   "id": "ebd3d82c-42d4-44cb-b956-34b8fb8f4336",
   "metadata": {},
   "source": [
    "## Floating Point Arithmetic\n",
    "\n",
    "Everything stored in the memory of a computer is a number, but how does a computer\n",
    "actually store a number?  More specifically, since computers only have finite memory we\n",
    "would really like to know the full range of numbers that are possible to store in a\n",
    "computer. Since there is a finite space in a computer, we can only ever store rational numbers (why?). Therefore, we need to know what gaps in our number system to expect when using a computer to store and do computations on numbers."
   ]
  },
  {
   "cell_type": "markdown",
   "id": "fee0246b-2bf0-4057-a173-697aee9f9bf5",
   "metadata": {},
   "source": [
    "--- \n",
    "Consider the number $x = -129.15625$ (in base 10).  This number can be converted into binary,\n",
    "\n",
    "$$\n",
    "x = -123.15625_{10} = -1111011.00101_2\n",
    "$$\n",
    "(you should check this).  \n",
    "\n",
    "* If a computer needs to store this number, we need the binary version of scientific notation.  In this case, we write \n",
    "\n",
    "$$\n",
    "x = -1. \\underline{\\hspace{1in}} \\times 2^{\\underline{\\hspace{0.25in}}}\n",
    "$$\n",
    "\n",
    "* Based on the fact that every binary number, other than 0, can bewritten in this way, what three things do you suppose a computer needs to store for any given number?\n",
    "* What would a computer need to store forthe binary number $x=10001001.1100110011_2$?"
   ]
  },
  {
   "cell_type": "markdown",
   "id": "6d485884-a46e-4f9d-9939-1b37dff5608a",
   "metadata": {},
   "source": [
    "::: {.callout-note}\n",
    "\n",
    "For any base-2 number $x$ we can write\n",
    "\n",
    "$$\n",
    "x = (-1)^{s} \\times (1+ m) \\times 2^E\n",
    "$$\n",
    "\n",
    "\n",
    "where $s \\in \\{0,1\\}$ is called the *sign bit* and $m$ is a binary number such that $0\n",
    "\\le m < 1$.\n",
    "\n",
    "For a number $x = (-1)^{s} \\times (1+m) \\times 2^E$ stored in a computer, the number $m$ is called the **mantissa** or the **significand**, $s$ is known as the sign bit, and $E$ is known as the exponent.\n",
    "\n",
    ":::"
   ]
  },
  {
   "cell_type": "markdown",
   "id": "91131780-aca7-480b-9795-77b8d06e4f11",
   "metadata": {},
   "source": [
    "**Example**\n",
    "\n",
    "What are the mantissa, sign bit, and exponent for the numbers $7_{10}$, $-7_{10}$, and $(0.1)_{10}$? "
   ]
  },
  {
   "cell_type": "markdown",
   "id": "14100bf5-806f-42e7-8353-35d5e40c0a0d",
   "metadata": {},
   "source": [
    "In the last part of the previous example we saw that the number $(0.1)_{10}$ is actually a\n",
    "repeating decimal in base-2.  This means that in order to completely represent the number\n",
    "$(0.1)_{10}$ in base-2, we need infinitely many decimal places.  Obviously that can't\n",
    "happen since we are dealing with computers with finite memory.  Over the course of the\n",
    "past several decades there have been many systems developed to properly store numbers.\n",
    "The IEEE standard that we now use is the accumulated effort of many computer scientists,\n",
    "much trial and error, and deep scientific research.  We now have three standard precisions\n",
    "for storing numbers on a computer, single, double, and extended precision.  The double\n",
    "precision standard is what most of our modern computers use."
   ]
  },
  {
   "cell_type": "markdown",
   "id": "77de7745-d97d-4550-934c-b906154afdc4",
   "metadata": {},
   "source": [
    "There are three standard precisions for storing numbers in a computer.\n",
    " * A **single-precision** number consists of 32 bits, with 1 bit for the sign, 8 for the exponent, and 23 for the significand.\n",
    " * A **double-precision** number consists of 64 bits with 1 bit for the sign, 11 for the exponent, and 52 for the significand.\n",
    " * An **extended-precision** number consists of 80 bits, with 1 bit for the sign, 15 for the exponent, and 64 for the significand."
   ]
  },
  {
   "cell_type": "markdown",
   "id": "8b603ee1-d13b-43cb-9914-2492dce80f70",
   "metadata": {},
   "source": [
    "**Machine precision** is the gap between the number 1 and the next larger floating point number. Often it is represented by the symbol $\\epsilon$. To clarify, the number 1 can always be stored in a computer system exactly and if $\\epsilon$ is machine precision for that computer then $1+\\epsilon$ is the next largest number that can be stored with that machine. \n"
   ]
  },
  {
   "cell_type": "markdown",
   "id": "74144baf-53de-4c29-a977-3394761cb5af",
   "metadata": {},
   "source": [
    "For all practical purposes the computer cannot tell the difference between two numbers if the difference is smaller than machine precision. This is of the utmost important when you want to check that something is \"zero\" since a computer just cannot know the difference between $0$ and $\\epsilon$."
   ]
  },
  {
   "cell_type": "markdown",
   "id": "500eed20-2550-405e-9a90-29905919ef82",
   "metadata": {},
   "source": [
    "### Additional Resources\n",
    "\n",
    "* [Number Representation in Computers](https://fabienmaussion.info/scientific_programming/week_04/02-Numbers.html)\n",
    "* [Floating Point Arithmetic](https://en.wikipedia.org/wiki/Floating-point_arithmetic)"
   ]
  },
  {
   "cell_type": "markdown",
   "id": "b0e9dbee-d161-4aa3-962f-84de2701147b",
   "metadata": {},
   "source": [
    "## Approximating Functions\n",
    "\n",
    "Numerical analysis is all about doing mathematics on a computer in accurate and predictable ways. Since a computer can only ever store finite bits of information for any number, most of what we do in a computer is naturally an approximation of the real mathematics. In this section we will look at a very powerful way to approximate mathematical functions.\n",
    "\n",
    "How does a computer understand a function like $f(x) = e^x$? What happens under the hood, so to speak, when you ask a computer to do a computation with one of these functions? A computer is very good at arithmetic, but working with transcendental functions like these, or really any other sufficiently complicated functions for that matter, causes all sorts of problems in a computer. Approximation of the function is something that is always happening under the hood."
   ]
  },
  {
   "cell_type": "markdown",
   "id": "e46d1d4d-bb3c-4e92-bf15-1850ca9e54fc",
   "metadata": {},
   "source": [
    "\n",
    "In the previous exercises, you have built up some basic intuition for what we would want out of a mathematical operation that might build an approximation of a complicated function. What we’ve built is actually a way to get better and better approximations for functions out to pretty much any arbitrary accuracy that we like so long as we are near some anchor point (which we called $x_0$)\n",
    "\n",
    "One of the points of this whole discussion is to give you a little glimpse as to what is happening behind the scenes in scientific programming languages when you do computations with these functions. A bigger point is to start getting a feel for how we might go in reverse and approximate an unknown function out of much simpler parts. This last goal is one of the big takeaways from numerical analysis: we can mathematically model highly complicated functions out of fairly simple pieces.\n"
   ]
  },
  {
   "cell_type": "markdown",
   "id": "c580d3e1-76ae-40d0-b552-57f23d318c14",
   "metadata": {},
   "source": [
    "**Definition.** Taylor Series) If $f(x)$ is an infinitely differentiable function at the point $x_0$, then the infinite polynomial expansion is called the Taylor Series of the function $f(x)$ \n",
    "\n",
    "$$\n",
    "f(x) = \\sum\\limits^{\\infty}_{k=0} \\frac{f^{(k)}(x_0)}{k!} (x - x_0)^k\n",
    "$$\n",
    "\n",
    "Taylor Series are named for the mathematician Brook Taylor."
   ]
  },
  {
   "cell_type": "markdown",
   "id": "7d1b13ae-cf86-487c-a8f7-2f3aa589b5ad",
   "metadata": {},
   "source": [
    "## Approximation Error (con Taylor Series)"
   ]
  },
  {
   "cell_type": "markdown",
   "id": "8c5e050c-0726-4960-aedc-0341fa8ef3c8",
   "metadata": {},
   "source": [
    "The great thing about Taylor Series is that they allow for the representation of potentially very complicated functions as polynomials – and polynomials are easily dealt with on a computer since they involve only addition, subtraction, multiplication, division, and integer powers. The down side is that the order of the polynomial is infinite. Hence, every time we use a Taylor series on a computer we are actually going to be using a **Truncated Taylor Series** where we only take a finite number of terms. The idea here is simple in principle"
   ]
  },
  {
   "cell_type": "markdown",
   "id": "7e36e5fb-7722-410c-b09c-5ee6a3f016d8",
   "metadata": {},
   "source": [
    "* If a function $f(x)$ has a Taylor Series representation it can be written as an infinite sum.\n",
    "* Computers can’t do infinite sums.\n",
    "* So stop the sum at some point $n$ and throw away the rest of the infinite sum.\n",
    "* Now $f(x)$ is approximated by some finite sum so long as you stay pretty close to $x=x_0$\n",
    "* and everything that we just removed of the end is called the remainder for the finite sum."
   ]
  },
  {
   "cell_type": "markdown",
   "id": "62ba1b5b-fc5d-466b-acef-7ebe2ff19464",
   "metadata": {},
   "source": [
    "::: {.callout-tip}\n",
    "\n",
    "### Theorem 1.1\n",
    "The approximation error when using a truncated Taylor Series is roughly proportional to the size of the next term in the Taylor Series.\n",
    "\n",
    ":::"
   ]
  },
  {
   "cell_type": "code",
   "execution_count": 1,
   "id": "b484d8e2-969b-4599-9566-33faf1f82b7e",
   "metadata": {},
   "outputs": [],
   "source": []
  }
 ],
 "metadata": {
  "kernelspec": {
   "display_name": "Python 3 (ipykernel)",
   "language": "python",
   "name": "python3"
  },
  "language_info": {
   "codemirror_mode": {
    "name": "ipython",
    "version": 3
   },
   "file_extension": ".py",
   "mimetype": "text/x-python",
   "name": "python",
   "nbconvert_exporter": "python",
   "pygments_lexer": "ipython3",
   "version": "3.12.4"
  }
 },
 "nbformat": 4,
 "nbformat_minor": 5
}
