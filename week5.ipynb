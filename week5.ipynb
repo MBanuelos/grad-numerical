{
 "cells": [
  {
   "cell_type": "markdown",
   "metadata": {},
   "source": [
    "[![](https://colab.research.google.com/assets/colab-badge.svg)](https://colab.research.google.com/github/MBanuelos/grad-numerical/blob/main/week5.ipynb)"
   ]
  },
  {
   "cell_type": "markdown",
   "metadata": {
    "id": "QNVQiyJkVtzS"
   },
   "source": [
    "# Week 5 - Integration"
   ]
  },
  {
   "cell_type": "code",
   "execution_count": 1,
   "metadata": {
    "executionInfo": {
     "elapsed": 9,
     "status": "ok",
     "timestamp": 1695256383313,
     "user": {
      "displayName": "Mario Banuelos",
      "userId": "01257122883850017165"
     },
     "user_tz": 420
    },
    "id": "ix9zLStNEIDL"
   },
   "outputs": [],
   "source": [
    "import numpy as np\n",
    "import plotly.graph_objects as go\n",
    "import scipy.misc\n",
    "import scipy.integrate"
   ]
  },
  {
   "cell_type": "markdown",
   "metadata": {
    "id": "yGDLeCZjZn34"
   },
   "source": [
    "## Integration"
   ]
  },
  {
   "cell_type": "markdown",
   "metadata": {
    "id": "rW8rR2R0FANN"
   },
   "source": [
    "**Practice**\n",
    "\n",
    "Write code to approximate an integral with Riemann sums. You should ALWAYS start by writing pseudo-code as comments in your function. Your Python function should accept a Python Function, a lower bound, an upper bound, the number of subintervals. Test your code on several functions for which you know the integral. You should write your code without any loops.\n",
    "\n",
    "We need:\n",
    "* step size - $\\Delta x = h$\n",
    "* $f(x)$\n",
    "* we need the bounds $a,b$\n",
    "* for Left-aligned R.S., we need the function values at the 'left' points in the interval $[a,b]$"
   ]
  },
  {
   "cell_type": "code",
   "execution_count": 2,
   "metadata": {
    "executionInfo": {
     "elapsed": 8,
     "status": "ok",
     "timestamp": 1695256383313,
     "user": {
      "displayName": "Mario Banuelos",
      "userId": "01257122883850017165"
     },
     "user_tz": 420
    },
    "id": "aM7jTth-FPE9"
   },
   "outputs": [],
   "source": [
    "def riemann_left(f, a, b, N):\n",
    "  x = np.linspace(a,b,N+1)\n",
    "  h = x[1] - x[0]\n",
    "  areas = f(x[0:N])*h # Q: how does this only evaluate at left points?\n",
    "  rsum = sum(areas)\n",
    "\n",
    "  return rsum"
   ]
  },
  {
   "cell_type": "code",
   "execution_count": 3,
   "metadata": {
    "colab": {
     "base_uri": "https://localhost:8080/"
    },
    "executionInfo": {
     "elapsed": 9,
     "status": "ok",
     "timestamp": 1695256383314,
     "user": {
      "displayName": "Mario Banuelos",
      "userId": "01257122883850017165"
     },
     "user_tz": 420
    },
    "id": "oSYmSKgLMKHr",
    "outputId": "068aa231-e236-4140-d607-f12a56ab4542"
   },
   "outputs": [
    {
     "data": {
      "text/plain": [
       "0.8417007635323798"
      ]
     },
     "execution_count": 3,
     "metadata": {},
     "output_type": "execute_result"
    }
   ],
   "source": [
    "f = lambda x: np.cos(x)\n",
    "\n",
    "a = 0\n",
    "b = 1\n",
    "N = 1000\n",
    "\n",
    "riemann_left(f, a, b, N)"
   ]
  },
  {
   "cell_type": "markdown",
   "metadata": {
    "id": "Li2-wYRTIiEg"
   },
   "source": [
    "**Theorem**\n",
    "\n",
    "In approximating the integral $\\int_a^b f(x) dx$ with a fixed interval width $\\Delta x$ we find an absolute percent error $P$.\n",
    "\n",
    "* If we use left rectangles and an interval width of $\\frac{\\Delta x}{M}$ then the absolute percent error will be approximately $\\underline{\\hspace{1in}}$.\n",
    "\n",
    "* If we use right rectangles and an interval width of $\\frac{\\Delta x}{M}$ then the absolute percent error will be approximately $\\underline{\\hspace{1in}}$.\n",
    "\n",
    "\n",
    "The previous theorem could be stated in an equivalent way.\n",
    "\n",
    "In approximating the integral $\\int_a^b f(x) dx$ with a fixed interval number of subintervals we find an absolute percent error $P$.\n",
    "\n",
    "* If we use left rectangles and $M$ times as many subintervals then the absolute percent error will be approximately $\\underline{\\hspace{1in}}$.\n",
    "\n",
    "* If we use right rectangles and $M$ times as many subintervals then the absolute percent error will be approximately $\\underline{\\hspace{1in}}$."
   ]
  },
  {
   "cell_type": "code",
   "execution_count": 3,
   "metadata": {
    "executionInfo": {
     "elapsed": 8,
     "status": "ok",
     "timestamp": 1695256383314,
     "user": {
      "displayName": "Mario Banuelos",
      "userId": "01257122883850017165"
     },
     "user_tz": 420
    },
    "id": "0H6rg7aqItHx"
   },
   "outputs": [],
   "source": []
  },
  {
   "cell_type": "markdown",
   "metadata": {
    "id": "VbUQGgVVwhns"
   },
   "source": [
    "The order of these methods (left and right Riemann rectangles) is $\\mathcal{O}(\\Delta x)$."
   ]
  },
  {
   "cell_type": "markdown",
   "metadata": {
    "id": "da3VEcIQhkzh"
   },
   "source": [
    "### Trapezoidal Rule\n",
    "\n",
    "<img src=\"https://numericalmethodssullivan.github.io/images/Ch03_Trapezoidal1.png\">"
   ]
  },
  {
   "cell_type": "markdown",
   "metadata": {
    "id": "pAE4LN1bl5-h"
   },
   "source": [
    "The function shown in the picture is $f(x) = \\frac{1}{5} x^2 (5-x)$.\n",
    "\n",
    "**Practice**\n",
    "\n",
    "What is the area under the function from $[1,4]$ when $\\Delta x = 1$?"
   ]
  },
  {
   "cell_type": "code",
   "execution_count": 4,
   "metadata": {
    "colab": {
     "base_uri": "https://localhost:8080/"
    },
    "executionInfo": {
     "elapsed": 8,
     "status": "ok",
     "timestamp": 1695256383314,
     "user": {
      "displayName": "Mario Banuelos",
      "userId": "01257122883850017165"
     },
     "user_tz": 420
    },
    "id": "GdkV-6d6yDS2",
    "outputId": "edbdd150-36a6-4393-e9d8-783a322984ea"
   },
   "outputs": [
    {
     "name": "stdout",
     "output_type": "stream",
     "text": [
      "3.2\n",
      "6.0\n",
      "6.800000000000001\n"
     ]
    }
   ],
   "source": [
    "f = lambda x: 1/5*x**2*(5-x)\n",
    "print(f(1)+f(2))\n",
    "print(f(2)+f(3))\n",
    "print(f(3)+f(4))"
   ]
  },
  {
   "cell_type": "markdown",
   "metadata": {
    "id": "3GFGLGJymW0D"
   },
   "source": [
    "ANS:\n",
    "\n",
    "\\begin{align*}\n",
    "A &= A_1 + A_2 + A_3\\\\\n",
    "&= \\vdots\\\\\n",
    "&= \\vdots\\\\\n",
    "&= \\vdots\\\\\n",
    "\\end{align*}"
   ]
  },
  {
   "cell_type": "markdown",
   "metadata": {
    "id": "uxuD2bhtmWTQ"
   },
   "source": [
    " **Practice**\n",
    "\n",
    " Write code to give the trapezoidal rule approximation for the definite integral $\\int^b_a f(x)\\;dx$. Test your code on functions where you know the definite area."
   ]
  },
  {
   "cell_type": "code",
   "execution_count": 5,
   "metadata": {
    "executionInfo": {
     "elapsed": 4,
     "status": "ok",
     "timestamp": 1695256383314,
     "user": {
      "displayName": "Mario Banuelos",
      "userId": "01257122883850017165"
     },
     "user_tz": 420
    },
    "id": "0-bCBsblnHqx"
   },
   "outputs": [],
   "source": [
    "def trapRULE(a, b, N, f):\n",
    "  ...\n",
    "  return rsum"
   ]
  },
  {
   "cell_type": "markdown",
   "metadata": {
    "id": "qvFD5i8-muOi"
   },
   "source": [
    "**Practice**\n",
    "\n",
    "Use the code that you wrote in the previous problem to test your conjecture about the order of the approximation error for the trapezoid rule. Integrate the function $f(x) = \\sin(x)$ from $x=0$ to $x=1$ with more and more trapezoids. In each case compare to the exact answer and find the absolute percent error. The goal is to answer the question:\n",
    "\n",
    "*If we calculate the definite integral with a fixed $\\Delta x$ and get an absolute percent error, $P$, then what absolute percent error will we get if we use a width of $\\Delta x/M$ for some positive number $M$?*"
   ]
  },
  {
   "cell_type": "markdown",
   "metadata": {
    "id": "ewRTVJ1ZnMEc"
   },
   "source": [
    "## Monte Carlo Integration Intro\n",
    "\n"
   ]
  },
  {
   "cell_type": "code",
   "execution_count": 7,
   "metadata": {
    "colab": {
     "base_uri": "https://localhost:8080/"
    },
    "executionInfo": {
     "elapsed": 1397,
     "status": "ok",
     "timestamp": 1695256384708,
     "user": {
      "displayName": "Mario Banuelos",
      "userId": "01257122883850017165"
     },
     "user_tz": 420
    },
    "id": "vV4k3C8DnXR6",
    "outputId": "9fb0e0a6-855c-46d7-b01d-8c54840ea524"
   },
   "outputs": [
    {
     "name": "stdout",
     "output_type": "stream",
     "text": [
      "3.1413352\n"
     ]
    }
   ],
   "source": [
    "# define function\n",
    "f = lambda x, y: np.sqrt(x**2 + y**2)\n",
    "\n",
    "# define # of random points\n",
    "N = 10000000\n",
    "\n",
    "# randomly sample N points (x-coordinates and y-coordinates)\n",
    "pts_x = np.random.random(size = N)\n",
    "pts_y = np.random.random(size = N)\n",
    "\n",
    "# count how many points are inside of the circle\n",
    "num_in = sum(f(pts_x, pts_y) < 1)\n",
    "\n",
    "# calculate the ratio\n",
    "print(4 * num_in/N)"
   ]
  },
  {
   "cell_type": "code",
   "execution_count": 8,
   "metadata": {
    "colab": {
     "base_uri": "https://localhost:8080/"
    },
    "executionInfo": {
     "elapsed": 1063,
     "status": "ok",
     "timestamp": 1695256385769,
     "user": {
      "displayName": "Mario Banuelos",
      "userId": "01257122883850017165"
     },
     "user_tz": 420
    },
    "id": "Xenzbku0_ThW",
    "outputId": "872c8d6e-9217-4b00-f987-921924e76ebc"
   },
   "outputs": [
    {
     "data": {
      "text/plain": [
       "7853338"
      ]
     },
     "execution_count": 8,
     "metadata": {},
     "output_type": "execute_result"
    }
   ],
   "source": [
    "sum(f(pts_x, pts_y) < 1)"
   ]
  },
  {
   "cell_type": "markdown",
   "metadata": {
    "id": "jZktJ89frcly"
   },
   "source": [
    "**Practice**\n",
    "\n",
    "What is the minimum number of points do you need to approximate $\\pi$ to 6 decimal places?"
   ]
  },
  {
   "cell_type": "markdown",
   "metadata": {
    "id": "a7nC04DqrrQH"
   },
   "source": []
  },
  {
   "cell_type": "markdown",
   "metadata": {
    "id": "jJXVB8e6rswc"
   },
   "source": [
    "**Practice**\n",
    "\n",
    "Calculate the area under the curve for $f(x) = \\frac{1}{5} x^2 (5-x)$ from $[1,4]$ using Monte Carlo integration."
   ]
  },
  {
   "cell_type": "code",
   "execution_count": 9,
   "metadata": {
    "colab": {
     "base_uri": "https://localhost:8080/"
    },
    "executionInfo": {
     "elapsed": 444,
     "status": "ok",
     "timestamp": 1695258452191,
     "user": {
      "displayName": "Mario Banuelos",
      "userId": "01257122883850017165"
     },
     "user_tz": 420
    },
    "id": "eXrjCfh1sNYQ",
    "outputId": "643996bb-21c6-46e8-d37d-84300079e673"
   },
   "outputs": [
    {
     "ename": "TypeError",
     "evalue": "unsupported operand type(s) for *: 'ellipsis' and 'ellipsis'",
     "output_type": "error",
     "traceback": [
      "\u001b[0;31m---------------------------------------------------------------------------\u001b[0m",
      "\u001b[0;31mTypeError\u001b[0m                                 Traceback (most recent call last)",
      "Cell \u001b[0;32mIn[9], line 19\u001b[0m\n\u001b[1;32m     16\u001b[0m area_of_rect \u001b[38;5;241m=\u001b[39m \u001b[38;5;241m.\u001b[39m\u001b[38;5;241m.\u001b[39m\u001b[38;5;241m.\u001b[39m\n\u001b[1;32m     18\u001b[0m \u001b[38;5;66;03m# calculate the ratio\u001b[39;00m\n\u001b[0;32m---> 19\u001b[0m \u001b[38;5;28mprint\u001b[39m(area_of_rect \u001b[38;5;241m*\u001b[39m num_in\u001b[38;5;241m/\u001b[39mN)\n",
      "\u001b[0;31mTypeError\u001b[0m: unsupported operand type(s) for *: 'ellipsis' and 'ellipsis'"
     ]
    }
   ],
   "source": [
    "# define function\n",
    "g = lambda x, y: y - 1/5 * x**2 * (5-x)\n",
    "\n",
    "# define # of random points\n",
    "N = ...\n",
    "\n",
    "# randomly sample N points (x-coordinates and y-coordinates)\n",
    "# sample x points from [1,4]\n",
    "pts_x = ...\n",
    "# sample y points from [0,3]\n",
    "pts_y = ...\n",
    "\n",
    "# count how many points are on or below g(x)\n",
    "num_in = ...\n",
    "# calculate the area of the bounding box/region\n",
    "area_of_rect = ...\n",
    "\n",
    "# calculate the ratio\n",
    "print(area_of_rect * num_in/N)"
   ]
  },
  {
   "cell_type": "code",
   "execution_count": 26,
   "metadata": {
    "executionInfo": {
     "elapsed": 4,
     "status": "ok",
     "timestamp": 1695256766852,
     "user": {
      "displayName": "Mario Banuelos",
      "userId": "01257122883850017165"
     },
     "user_tz": 420
    },
    "id": "otf2qtfwK95A"
   },
   "outputs": [],
   "source": [
    "#g(pts_x, pts_y)"
   ]
  },
  {
   "cell_type": "code",
   "execution_count": 27,
   "metadata": {
    "colab": {
     "base_uri": "https://localhost:8080/",
     "height": 468
    },
    "executionInfo": {
     "elapsed": 524,
     "status": "ok",
     "timestamp": 1695256772585,
     "user": {
      "displayName": "Mario Banuelos",
      "userId": "01257122883850017165"
     },
     "user_tz": 420
    },
    "id": "8KuB8B9-KHJ5",
    "outputId": "00fd3045-585d-4055-fcfe-704ab88d99ce"
   },
   "outputs": [
    {
     "data": {
      "text/plain": [
       "[<matplotlib.lines.Line2D at 0x7b3338d890f0>]"
      ]
     },
     "execution_count": 27,
     "metadata": {},
     "output_type": "execute_result"
    },
    {
     "data": {
      "image/png": "[encoded data removed]",
      "text/plain": [
       "<Figure size 640x480 with 1 Axes>"
      ]
     },
     "metadata": {},
     "output_type": "display_data"
    }
   ],
   "source": [
    "import matplotlib.pyplot as plt\n",
    "plt.plot(pts_x,pts_y, 'o')\n",
    "plt.plot(pts_x, 1/5 * pts_x**2 * (5-pts_x), 'o')"
   ]
  },
  {
   "cell_type": "markdown",
   "metadata": {
    "id": "T2YnQ0eOkc9X"
   },
   "source": [
    "## Using `Numpy` and `Scipy`"
   ]
  },
  {
   "cell_type": "markdown",
   "metadata": {
    "id": "tySXI4iEkkpj"
   },
   "source": [
    "### Differentiation"
   ]
  },
  {
   "cell_type": "markdown",
   "metadata": {
    "id": "Xeg7VMl9hZ0J"
   },
   "source": [
    "There are two main tools built into the `numpy` and `scipy` libraries that do numerical differentiation. In `numpy` there is the `np.diff()` command. In `scipy` there is the `scipy.misc.derivative()` command."
   ]
  },
  {
   "cell_type": "code",
   "execution_count": null,
   "metadata": {
    "executionInfo": {
     "elapsed": 12,
     "status": "aborted",
     "timestamp": 1695256385770,
     "user": {
      "displayName": "Mario Banuelos",
      "userId": "01257122883850017165"
     },
     "user_tz": 420
    },
    "id": "rnw_CG-ZsdJJ"
   },
   "outputs": [],
   "source": [
    "# ex 1\n",
    "myList = np.arange(0,10)\n",
    "print(myList)\n",
    "print( np.diff(myList) )"
   ]
  },
  {
   "cell_type": "code",
   "execution_count": null,
   "metadata": {
    "executionInfo": {
     "elapsed": 12,
     "status": "aborted",
     "timestamp": 1695256385771,
     "user": {
      "displayName": "Mario Banuelos",
      "userId": "01257122883850017165"
     },
     "user_tz": 420
    },
    "id": "zgVxXqE0soPk"
   },
   "outputs": [],
   "source": [
    "# ex 2\n",
    "myList = np.linspace(0,1,6)\n",
    "print(myList)\n",
    "print( np.diff(myList) )"
   ]
  },
  {
   "cell_type": "code",
   "execution_count": null,
   "metadata": {
    "executionInfo": {
     "elapsed": 12,
     "status": "aborted",
     "timestamp": 1695256385771,
     "user": {
      "displayName": "Mario Banuelos",
      "userId": "01257122883850017165"
     },
     "user_tz": 420
    },
    "id": "UWXZ7wIRss71"
   },
   "outputs": [],
   "source": [
    "# ex 3\n",
    "x = np.linspace(0,1,6)\n",
    "dx = x[1]-x[0]\n",
    "y = x**2\n",
    "dy = 2*x\n",
    "print(\"function values: \\n\",y)\n",
    "print(\"exact values of derivative: \\n\",dy)\n",
    "print(\"values from np.diff(): \\n\",np.diff(y))\n",
    "print(\"values from np.diff()/dx: \\n\",np.diff(y) / dx )"
   ]
  },
  {
   "cell_type": "markdown",
   "metadata": {
    "id": "NTsarbcVtQlq"
   },
   "source": [
    "Q: Why does the `np.diff()` command produce a list that is one element shorter than the original list?"
   ]
  },
  {
   "cell_type": "code",
   "execution_count": null,
   "metadata": {
    "executionInfo": {
     "elapsed": 12,
     "status": "aborted",
     "timestamp": 1695256385772,
     "user": {
      "displayName": "Mario Banuelos",
      "userId": "01257122883850017165"
     },
     "user_tz": 420
    },
    "id": "v6fZbt6ttXTo"
   },
   "outputs": [],
   "source": [
    "# what does this code do?\n",
    "x = np.linspace(0,1,6)\n",
    "dx = x[1]-x[0]\n",
    "y = x**2\n",
    "print( np.diff(y,2) / dx**2 )"
   ]
  },
  {
   "cell_type": "markdown",
   "metadata": {
    "id": "2X5UdgZatmP4"
   },
   "source": [
    "Next we look into the `scipy.misc.derivative()` command from the `scipy` library. This will be another way to calculate the derivative of a function. One advantage will be that you can just send in a Python function (or a lambda function) without actually computing the lists of values. Examine the following Python code and fully describe what it does"
   ]
  },
  {
   "cell_type": "code",
   "execution_count": null,
   "metadata": {
    "executionInfo": {
     "elapsed": 12,
     "status": "aborted",
     "timestamp": 1695256385772,
     "user": {
      "displayName": "Mario Banuelos",
      "userId": "01257122883850017165"
     },
     "user_tz": 420
    },
    "id": "jrTc4zFitxbh"
   },
   "outputs": [],
   "source": [
    "f = lambda x: x**2\n",
    "x = np.linspace(1,5,5)\n",
    "df = scipy.misc.derivative(f,x,dx = 1e-10)\n",
    "print(df)"
   ]
  },
  {
   "cell_type": "code",
   "execution_count": null,
   "metadata": {
    "executionInfo": {
     "elapsed": 12,
     "status": "aborted",
     "timestamp": 1695256385772,
     "user": {
      "displayName": "Mario Banuelos",
      "userId": "01257122883850017165"
     },
     "user_tz": 420
    },
    "id": "V7TGxp-1t1JR"
   },
   "outputs": [],
   "source": [
    "f = lambda x: x**2\n",
    "df = scipy.misc.derivative(f,1,dx = 1e-10) # derivative at x=1\n",
    "print(df)"
   ]
  },
  {
   "cell_type": "markdown",
   "metadata": {
    "id": "Slpsba43kotd"
   },
   "source": [
    "### Integration"
   ]
  },
  {
   "cell_type": "markdown",
   "metadata": {
    "id": "9eGzjkRRhaJO"
   },
   "source": [
    "In `numpy` there is a nice tool called `np.trapz()` that implements the trapezoidal rule. In the following problem you will find several examples of the `np.trapz()` command. Use these examples to determine how the command works to integrate functions."
   ]
  },
  {
   "cell_type": "markdown",
   "metadata": {
    "id": "6JAXEwjiux8y"
   },
   "source": [
    "Let's approximate\n",
    "\n",
    "$$\n",
    "\\int^2_{-2} x^2\\;dx\n",
    "$$"
   ]
  },
  {
   "cell_type": "code",
   "execution_count": null,
   "metadata": {
    "executionInfo": {
     "elapsed": 11,
     "status": "aborted",
     "timestamp": 1695256385772,
     "user": {
      "displayName": "Mario Banuelos",
      "userId": "01257122883850017165"
     },
     "user_tz": 420
    },
    "id": "E1qe0AfSuuaL"
   },
   "outputs": [],
   "source": [
    "x = np.linspace(-2,2,100)\n",
    "dx = x[1]-x[0]\n",
    "y = x**2\n",
    "print(\"Approximate integral is \",np.trapz(y)*dx)"
   ]
  },
  {
   "cell_type": "markdown",
   "metadata": {
    "id": "gbLDUZXUu7Xr"
   },
   "source": [
    "Q: What is the actual value?"
   ]
  },
  {
   "cell_type": "markdown",
   "metadata": {
    "id": "8YBTmkqnvCx7"
   },
   "source": [
    "**Practice**\n",
    "\n",
    "Pick a function and an interval for which you know the exact definite integral. Demonstrate how to use `np.trapz()` on your definite integral."
   ]
  },
  {
   "cell_type": "markdown",
   "metadata": {
    "id": "at-driSrvLS_"
   },
   "source": [
    "In the `scipy` library there is a more general tool called `scipy.integrate.quad()`. The term “quad” is short for “quadrature.” In numerical analysis literature rules like Simpson's rule are called quadrature rules for integration. The function `scipy.integrate.quad()` accepts a Python function (or a lambda function) and the bounds of the definite integral. It outputs an approximation of the integral along with an approximation of the error in the integral calculation. See the Python code below."
   ]
  },
  {
   "cell_type": "code",
   "execution_count": null,
   "metadata": {
    "executionInfo": {
     "elapsed": 12,
     "status": "aborted",
     "timestamp": 1695256385773,
     "user": {
      "displayName": "Mario Banuelos",
      "userId": "01257122883850017165"
     },
     "user_tz": 420
    },
    "id": "eQEOvVWcvTtW"
   },
   "outputs": [],
   "source": [
    "f = lambda x: x**2\n",
    "I = scipy.integrate.quad(f,-2,2)\n",
    "print(I)"
   ]
  },
  {
   "cell_type": "markdown",
   "metadata": {
    "id": "kiqKCjtkkYUf"
   },
   "source": [
    "## 1-D Optimization"
   ]
  },
  {
   "cell_type": "markdown",
   "metadata": {
    "id": "hD47R9XNv8db"
   },
   "source": [
    "**Practice**\n",
    "\n",
    "Given this box, we want to determine the value of $x$ such that the volume of this box is maximized. How do we proceed?\n",
    "\n",
    "\n",
    "<img src=\"https://numericalmethodssullivan.github.io/images/Ch03_CardboardBox.png\">"
   ]
  },
  {
   "cell_type": "markdown",
   "metadata": {
    "id": "W7pQv2LAvmhv"
   },
   "source": [
    "**Practice**\n",
    "\n",
    "If you were blind folded and standing on a crater on the moon could you find the lowest point? How would you do it? Remember that you can hop as far as you like ... because gravity ... but sometimes that's not a great thing because you could hop too far.\n"
   ]
  }
 ],
 "metadata": {
  "colab": {
   "authorship_tag": "ABX9TyOQIFR7unotkQqBK8wsIc/6",
   "provenance": []
  },
  "kernelspec": {
   "display_name": "Python 3 (ipykernel)",
   "language": "python",
   "name": "python3"
  },
  "language_info": {
   "codemirror_mode": {
    "name": "ipython",
    "version": 3
   },
   "file_extension": ".py",
   "mimetype": "text/x-python",
   "name": "python",
   "nbconvert_exporter": "python",
   "pygments_lexer": "ipython3",
   "version": "3.12.4"
  }
 },
 "nbformat": 4,
 "nbformat_minor": 4
}
